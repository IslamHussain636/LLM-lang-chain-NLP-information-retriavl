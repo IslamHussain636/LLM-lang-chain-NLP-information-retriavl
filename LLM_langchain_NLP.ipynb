{
  "nbformat": 4,
  "nbformat_minor": 0,
  "metadata": {
    "colab": {
      "provenance": []
    },
    "kernelspec": {
      "name": "python3",
      "display_name": "Python 3"
    },
    "language_info": {
      "name": "python"
    },
    "widgets": {
      "application/vnd.jupyter.widget-state+json": {
        "41fe16d3c93046e58b2dc32e88b5ae3f": {
          "model_module": "@jupyter-widgets/controls",
          "model_name": "HBoxModel",
          "model_module_version": "1.5.0",
          "state": {
            "_dom_classes": [],
            "_model_module": "@jupyter-widgets/controls",
            "_model_module_version": "1.5.0",
            "_model_name": "HBoxModel",
            "_view_count": null,
            "_view_module": "@jupyter-widgets/controls",
            "_view_module_version": "1.5.0",
            "_view_name": "HBoxView",
            "box_style": "",
            "children": [
              "IPY_MODEL_56a9891bef6c42c2b437d11c50525eb6",
              "IPY_MODEL_ad960cc873d848ad86a2f2465302612e",
              "IPY_MODEL_27014eab77fd4c17a1c6d2ac272d101f"
            ],
            "layout": "IPY_MODEL_1ea4fca43cca4c6ab42642404fb42e3c"
          }
        },
        "56a9891bef6c42c2b437d11c50525eb6": {
          "model_module": "@jupyter-widgets/controls",
          "model_name": "HTMLModel",
          "model_module_version": "1.5.0",
          "state": {
            "_dom_classes": [],
            "_model_module": "@jupyter-widgets/controls",
            "_model_module_version": "1.5.0",
            "_model_name": "HTMLModel",
            "_view_count": null,
            "_view_module": "@jupyter-widgets/controls",
            "_view_module_version": "1.5.0",
            "_view_name": "HTMLView",
            "description": "",
            "description_tooltip": null,
            "layout": "IPY_MODEL_813fbc5b23fc4e7ab7551bec6cbef89d",
            "placeholder": "​",
            "style": "IPY_MODEL_381fbddcff2848a181a4c6142738326e",
            "value": "Downloading (…)olve/main/vocab.json: 100%"
          }
        },
        "ad960cc873d848ad86a2f2465302612e": {
          "model_module": "@jupyter-widgets/controls",
          "model_name": "FloatProgressModel",
          "model_module_version": "1.5.0",
          "state": {
            "_dom_classes": [],
            "_model_module": "@jupyter-widgets/controls",
            "_model_module_version": "1.5.0",
            "_model_name": "FloatProgressModel",
            "_view_count": null,
            "_view_module": "@jupyter-widgets/controls",
            "_view_module_version": "1.5.0",
            "_view_name": "ProgressView",
            "bar_style": "success",
            "description": "",
            "description_tooltip": null,
            "layout": "IPY_MODEL_83ea71942d664dd5a35a4785c27eb457",
            "max": 1042301,
            "min": 0,
            "orientation": "horizontal",
            "style": "IPY_MODEL_28d52c9719e94add8dd21213f688dd33",
            "value": 1042301
          }
        },
        "27014eab77fd4c17a1c6d2ac272d101f": {
          "model_module": "@jupyter-widgets/controls",
          "model_name": "HTMLModel",
          "model_module_version": "1.5.0",
          "state": {
            "_dom_classes": [],
            "_model_module": "@jupyter-widgets/controls",
            "_model_module_version": "1.5.0",
            "_model_name": "HTMLModel",
            "_view_count": null,
            "_view_module": "@jupyter-widgets/controls",
            "_view_module_version": "1.5.0",
            "_view_name": "HTMLView",
            "description": "",
            "description_tooltip": null,
            "layout": "IPY_MODEL_285c20fbf4f14ac8871f2477c530909a",
            "placeholder": "​",
            "style": "IPY_MODEL_003e655052a1479ebd6ee2e13ff2dbe8",
            "value": " 1.04M/1.04M [00:00&lt;00:00, 6.90MB/s]"
          }
        },
        "1ea4fca43cca4c6ab42642404fb42e3c": {
          "model_module": "@jupyter-widgets/base",
          "model_name": "LayoutModel",
          "model_module_version": "1.2.0",
          "state": {
            "_model_module": "@jupyter-widgets/base",
            "_model_module_version": "1.2.0",
            "_model_name": "LayoutModel",
            "_view_count": null,
            "_view_module": "@jupyter-widgets/base",
            "_view_module_version": "1.2.0",
            "_view_name": "LayoutView",
            "align_content": null,
            "align_items": null,
            "align_self": null,
            "border": null,
            "bottom": null,
            "display": null,
            "flex": null,
            "flex_flow": null,
            "grid_area": null,
            "grid_auto_columns": null,
            "grid_auto_flow": null,
            "grid_auto_rows": null,
            "grid_column": null,
            "grid_gap": null,
            "grid_row": null,
            "grid_template_areas": null,
            "grid_template_columns": null,
            "grid_template_rows": null,
            "height": null,
            "justify_content": null,
            "justify_items": null,
            "left": null,
            "margin": null,
            "max_height": null,
            "max_width": null,
            "min_height": null,
            "min_width": null,
            "object_fit": null,
            "object_position": null,
            "order": null,
            "overflow": null,
            "overflow_x": null,
            "overflow_y": null,
            "padding": null,
            "right": null,
            "top": null,
            "visibility": null,
            "width": null
          }
        },
        "813fbc5b23fc4e7ab7551bec6cbef89d": {
          "model_module": "@jupyter-widgets/base",
          "model_name": "LayoutModel",
          "model_module_version": "1.2.0",
          "state": {
            "_model_module": "@jupyter-widgets/base",
            "_model_module_version": "1.2.0",
            "_model_name": "LayoutModel",
            "_view_count": null,
            "_view_module": "@jupyter-widgets/base",
            "_view_module_version": "1.2.0",
            "_view_name": "LayoutView",
            "align_content": null,
            "align_items": null,
            "align_self": null,
            "border": null,
            "bottom": null,
            "display": null,
            "flex": null,
            "flex_flow": null,
            "grid_area": null,
            "grid_auto_columns": null,
            "grid_auto_flow": null,
            "grid_auto_rows": null,
            "grid_column": null,
            "grid_gap": null,
            "grid_row": null,
            "grid_template_areas": null,
            "grid_template_columns": null,
            "grid_template_rows": null,
            "height": null,
            "justify_content": null,
            "justify_items": null,
            "left": null,
            "margin": null,
            "max_height": null,
            "max_width": null,
            "min_height": null,
            "min_width": null,
            "object_fit": null,
            "object_position": null,
            "order": null,
            "overflow": null,
            "overflow_x": null,
            "overflow_y": null,
            "padding": null,
            "right": null,
            "top": null,
            "visibility": null,
            "width": null
          }
        },
        "381fbddcff2848a181a4c6142738326e": {
          "model_module": "@jupyter-widgets/controls",
          "model_name": "DescriptionStyleModel",
          "model_module_version": "1.5.0",
          "state": {
            "_model_module": "@jupyter-widgets/controls",
            "_model_module_version": "1.5.0",
            "_model_name": "DescriptionStyleModel",
            "_view_count": null,
            "_view_module": "@jupyter-widgets/base",
            "_view_module_version": "1.2.0",
            "_view_name": "StyleView",
            "description_width": ""
          }
        },
        "83ea71942d664dd5a35a4785c27eb457": {
          "model_module": "@jupyter-widgets/base",
          "model_name": "LayoutModel",
          "model_module_version": "1.2.0",
          "state": {
            "_model_module": "@jupyter-widgets/base",
            "_model_module_version": "1.2.0",
            "_model_name": "LayoutModel",
            "_view_count": null,
            "_view_module": "@jupyter-widgets/base",
            "_view_module_version": "1.2.0",
            "_view_name": "LayoutView",
            "align_content": null,
            "align_items": null,
            "align_self": null,
            "border": null,
            "bottom": null,
            "display": null,
            "flex": null,
            "flex_flow": null,
            "grid_area": null,
            "grid_auto_columns": null,
            "grid_auto_flow": null,
            "grid_auto_rows": null,
            "grid_column": null,
            "grid_gap": null,
            "grid_row": null,
            "grid_template_areas": null,
            "grid_template_columns": null,
            "grid_template_rows": null,
            "height": null,
            "justify_content": null,
            "justify_items": null,
            "left": null,
            "margin": null,
            "max_height": null,
            "max_width": null,
            "min_height": null,
            "min_width": null,
            "object_fit": null,
            "object_position": null,
            "order": null,
            "overflow": null,
            "overflow_x": null,
            "overflow_y": null,
            "padding": null,
            "right": null,
            "top": null,
            "visibility": null,
            "width": null
          }
        },
        "28d52c9719e94add8dd21213f688dd33": {
          "model_module": "@jupyter-widgets/controls",
          "model_name": "ProgressStyleModel",
          "model_module_version": "1.5.0",
          "state": {
            "_model_module": "@jupyter-widgets/controls",
            "_model_module_version": "1.5.0",
            "_model_name": "ProgressStyleModel",
            "_view_count": null,
            "_view_module": "@jupyter-widgets/base",
            "_view_module_version": "1.2.0",
            "_view_name": "StyleView",
            "bar_color": null,
            "description_width": ""
          }
        },
        "285c20fbf4f14ac8871f2477c530909a": {
          "model_module": "@jupyter-widgets/base",
          "model_name": "LayoutModel",
          "model_module_version": "1.2.0",
          "state": {
            "_model_module": "@jupyter-widgets/base",
            "_model_module_version": "1.2.0",
            "_model_name": "LayoutModel",
            "_view_count": null,
            "_view_module": "@jupyter-widgets/base",
            "_view_module_version": "1.2.0",
            "_view_name": "LayoutView",
            "align_content": null,
            "align_items": null,
            "align_self": null,
            "border": null,
            "bottom": null,
            "display": null,
            "flex": null,
            "flex_flow": null,
            "grid_area": null,
            "grid_auto_columns": null,
            "grid_auto_flow": null,
            "grid_auto_rows": null,
            "grid_column": null,
            "grid_gap": null,
            "grid_row": null,
            "grid_template_areas": null,
            "grid_template_columns": null,
            "grid_template_rows": null,
            "height": null,
            "justify_content": null,
            "justify_items": null,
            "left": null,
            "margin": null,
            "max_height": null,
            "max_width": null,
            "min_height": null,
            "min_width": null,
            "object_fit": null,
            "object_position": null,
            "order": null,
            "overflow": null,
            "overflow_x": null,
            "overflow_y": null,
            "padding": null,
            "right": null,
            "top": null,
            "visibility": null,
            "width": null
          }
        },
        "003e655052a1479ebd6ee2e13ff2dbe8": {
          "model_module": "@jupyter-widgets/controls",
          "model_name": "DescriptionStyleModel",
          "model_module_version": "1.5.0",
          "state": {
            "_model_module": "@jupyter-widgets/controls",
            "_model_module_version": "1.5.0",
            "_model_name": "DescriptionStyleModel",
            "_view_count": null,
            "_view_module": "@jupyter-widgets/base",
            "_view_module_version": "1.2.0",
            "_view_name": "StyleView",
            "description_width": ""
          }
        },
        "55403440bda34fd4b0129be6e3b811d8": {
          "model_module": "@jupyter-widgets/controls",
          "model_name": "HBoxModel",
          "model_module_version": "1.5.0",
          "state": {
            "_dom_classes": [],
            "_model_module": "@jupyter-widgets/controls",
            "_model_module_version": "1.5.0",
            "_model_name": "HBoxModel",
            "_view_count": null,
            "_view_module": "@jupyter-widgets/controls",
            "_view_module_version": "1.5.0",
            "_view_name": "HBoxView",
            "box_style": "",
            "children": [
              "IPY_MODEL_a1881492f2c9416daaee9902e6d3ffe6",
              "IPY_MODEL_5cd55d156f80448592234d8dd97edf50",
              "IPY_MODEL_eb3cdfcff24b467ab855f61f367b5aaf"
            ],
            "layout": "IPY_MODEL_2ffa6039078d4f568b473c33eff6c51d"
          }
        },
        "a1881492f2c9416daaee9902e6d3ffe6": {
          "model_module": "@jupyter-widgets/controls",
          "model_name": "HTMLModel",
          "model_module_version": "1.5.0",
          "state": {
            "_dom_classes": [],
            "_model_module": "@jupyter-widgets/controls",
            "_model_module_version": "1.5.0",
            "_model_name": "HTMLModel",
            "_view_count": null,
            "_view_module": "@jupyter-widgets/controls",
            "_view_module_version": "1.5.0",
            "_view_name": "HTMLView",
            "description": "",
            "description_tooltip": null,
            "layout": "IPY_MODEL_390f1768f59a4e3894926a893343c2b0",
            "placeholder": "​",
            "style": "IPY_MODEL_20e8fb1dd4fd4808b5f36be13d06bff9",
            "value": "Downloading (…)olve/main/merges.txt: 100%"
          }
        },
        "5cd55d156f80448592234d8dd97edf50": {
          "model_module": "@jupyter-widgets/controls",
          "model_name": "FloatProgressModel",
          "model_module_version": "1.5.0",
          "state": {
            "_dom_classes": [],
            "_model_module": "@jupyter-widgets/controls",
            "_model_module_version": "1.5.0",
            "_model_name": "FloatProgressModel",
            "_view_count": null,
            "_view_module": "@jupyter-widgets/controls",
            "_view_module_version": "1.5.0",
            "_view_name": "ProgressView",
            "bar_style": "success",
            "description": "",
            "description_tooltip": null,
            "layout": "IPY_MODEL_e8f2641ca9cf4282b207b39435e5a69a",
            "max": 456318,
            "min": 0,
            "orientation": "horizontal",
            "style": "IPY_MODEL_ed3194cdc95f4e259f11ad6b03763cb1",
            "value": 456318
          }
        },
        "eb3cdfcff24b467ab855f61f367b5aaf": {
          "model_module": "@jupyter-widgets/controls",
          "model_name": "HTMLModel",
          "model_module_version": "1.5.0",
          "state": {
            "_dom_classes": [],
            "_model_module": "@jupyter-widgets/controls",
            "_model_module_version": "1.5.0",
            "_model_name": "HTMLModel",
            "_view_count": null,
            "_view_module": "@jupyter-widgets/controls",
            "_view_module_version": "1.5.0",
            "_view_name": "HTMLView",
            "description": "",
            "description_tooltip": null,
            "layout": "IPY_MODEL_471aba4d9db841dbaa79472072c53f7a",
            "placeholder": "​",
            "style": "IPY_MODEL_7a974254d69b423fba565d89d7fa1dc4",
            "value": " 456k/456k [00:00&lt;00:00, 9.29MB/s]"
          }
        },
        "2ffa6039078d4f568b473c33eff6c51d": {
          "model_module": "@jupyter-widgets/base",
          "model_name": "LayoutModel",
          "model_module_version": "1.2.0",
          "state": {
            "_model_module": "@jupyter-widgets/base",
            "_model_module_version": "1.2.0",
            "_model_name": "LayoutModel",
            "_view_count": null,
            "_view_module": "@jupyter-widgets/base",
            "_view_module_version": "1.2.0",
            "_view_name": "LayoutView",
            "align_content": null,
            "align_items": null,
            "align_self": null,
            "border": null,
            "bottom": null,
            "display": null,
            "flex": null,
            "flex_flow": null,
            "grid_area": null,
            "grid_auto_columns": null,
            "grid_auto_flow": null,
            "grid_auto_rows": null,
            "grid_column": null,
            "grid_gap": null,
            "grid_row": null,
            "grid_template_areas": null,
            "grid_template_columns": null,
            "grid_template_rows": null,
            "height": null,
            "justify_content": null,
            "justify_items": null,
            "left": null,
            "margin": null,
            "max_height": null,
            "max_width": null,
            "min_height": null,
            "min_width": null,
            "object_fit": null,
            "object_position": null,
            "order": null,
            "overflow": null,
            "overflow_x": null,
            "overflow_y": null,
            "padding": null,
            "right": null,
            "top": null,
            "visibility": null,
            "width": null
          }
        },
        "390f1768f59a4e3894926a893343c2b0": {
          "model_module": "@jupyter-widgets/base",
          "model_name": "LayoutModel",
          "model_module_version": "1.2.0",
          "state": {
            "_model_module": "@jupyter-widgets/base",
            "_model_module_version": "1.2.0",
            "_model_name": "LayoutModel",
            "_view_count": null,
            "_view_module": "@jupyter-widgets/base",
            "_view_module_version": "1.2.0",
            "_view_name": "LayoutView",
            "align_content": null,
            "align_items": null,
            "align_self": null,
            "border": null,
            "bottom": null,
            "display": null,
            "flex": null,
            "flex_flow": null,
            "grid_area": null,
            "grid_auto_columns": null,
            "grid_auto_flow": null,
            "grid_auto_rows": null,
            "grid_column": null,
            "grid_gap": null,
            "grid_row": null,
            "grid_template_areas": null,
            "grid_template_columns": null,
            "grid_template_rows": null,
            "height": null,
            "justify_content": null,
            "justify_items": null,
            "left": null,
            "margin": null,
            "max_height": null,
            "max_width": null,
            "min_height": null,
            "min_width": null,
            "object_fit": null,
            "object_position": null,
            "order": null,
            "overflow": null,
            "overflow_x": null,
            "overflow_y": null,
            "padding": null,
            "right": null,
            "top": null,
            "visibility": null,
            "width": null
          }
        },
        "20e8fb1dd4fd4808b5f36be13d06bff9": {
          "model_module": "@jupyter-widgets/controls",
          "model_name": "DescriptionStyleModel",
          "model_module_version": "1.5.0",
          "state": {
            "_model_module": "@jupyter-widgets/controls",
            "_model_module_version": "1.5.0",
            "_model_name": "DescriptionStyleModel",
            "_view_count": null,
            "_view_module": "@jupyter-widgets/base",
            "_view_module_version": "1.2.0",
            "_view_name": "StyleView",
            "description_width": ""
          }
        },
        "e8f2641ca9cf4282b207b39435e5a69a": {
          "model_module": "@jupyter-widgets/base",
          "model_name": "LayoutModel",
          "model_module_version": "1.2.0",
          "state": {
            "_model_module": "@jupyter-widgets/base",
            "_model_module_version": "1.2.0",
            "_model_name": "LayoutModel",
            "_view_count": null,
            "_view_module": "@jupyter-widgets/base",
            "_view_module_version": "1.2.0",
            "_view_name": "LayoutView",
            "align_content": null,
            "align_items": null,
            "align_self": null,
            "border": null,
            "bottom": null,
            "display": null,
            "flex": null,
            "flex_flow": null,
            "grid_area": null,
            "grid_auto_columns": null,
            "grid_auto_flow": null,
            "grid_auto_rows": null,
            "grid_column": null,
            "grid_gap": null,
            "grid_row": null,
            "grid_template_areas": null,
            "grid_template_columns": null,
            "grid_template_rows": null,
            "height": null,
            "justify_content": null,
            "justify_items": null,
            "left": null,
            "margin": null,
            "max_height": null,
            "max_width": null,
            "min_height": null,
            "min_width": null,
            "object_fit": null,
            "object_position": null,
            "order": null,
            "overflow": null,
            "overflow_x": null,
            "overflow_y": null,
            "padding": null,
            "right": null,
            "top": null,
            "visibility": null,
            "width": null
          }
        },
        "ed3194cdc95f4e259f11ad6b03763cb1": {
          "model_module": "@jupyter-widgets/controls",
          "model_name": "ProgressStyleModel",
          "model_module_version": "1.5.0",
          "state": {
            "_model_module": "@jupyter-widgets/controls",
            "_model_module_version": "1.5.0",
            "_model_name": "ProgressStyleModel",
            "_view_count": null,
            "_view_module": "@jupyter-widgets/base",
            "_view_module_version": "1.2.0",
            "_view_name": "StyleView",
            "bar_color": null,
            "description_width": ""
          }
        },
        "471aba4d9db841dbaa79472072c53f7a": {
          "model_module": "@jupyter-widgets/base",
          "model_name": "LayoutModel",
          "model_module_version": "1.2.0",
          "state": {
            "_model_module": "@jupyter-widgets/base",
            "_model_module_version": "1.2.0",
            "_model_name": "LayoutModel",
            "_view_count": null,
            "_view_module": "@jupyter-widgets/base",
            "_view_module_version": "1.2.0",
            "_view_name": "LayoutView",
            "align_content": null,
            "align_items": null,
            "align_self": null,
            "border": null,
            "bottom": null,
            "display": null,
            "flex": null,
            "flex_flow": null,
            "grid_area": null,
            "grid_auto_columns": null,
            "grid_auto_flow": null,
            "grid_auto_rows": null,
            "grid_column": null,
            "grid_gap": null,
            "grid_row": null,
            "grid_template_areas": null,
            "grid_template_columns": null,
            "grid_template_rows": null,
            "height": null,
            "justify_content": null,
            "justify_items": null,
            "left": null,
            "margin": null,
            "max_height": null,
            "max_width": null,
            "min_height": null,
            "min_width": null,
            "object_fit": null,
            "object_position": null,
            "order": null,
            "overflow": null,
            "overflow_x": null,
            "overflow_y": null,
            "padding": null,
            "right": null,
            "top": null,
            "visibility": null,
            "width": null
          }
        },
        "7a974254d69b423fba565d89d7fa1dc4": {
          "model_module": "@jupyter-widgets/controls",
          "model_name": "DescriptionStyleModel",
          "model_module_version": "1.5.0",
          "state": {
            "_model_module": "@jupyter-widgets/controls",
            "_model_module_version": "1.5.0",
            "_model_name": "DescriptionStyleModel",
            "_view_count": null,
            "_view_module": "@jupyter-widgets/base",
            "_view_module_version": "1.2.0",
            "_view_name": "StyleView",
            "description_width": ""
          }
        },
        "5d5f12079d9c490da411fa1c5da8c881": {
          "model_module": "@jupyter-widgets/controls",
          "model_name": "HBoxModel",
          "model_module_version": "1.5.0",
          "state": {
            "_dom_classes": [],
            "_model_module": "@jupyter-widgets/controls",
            "_model_module_version": "1.5.0",
            "_model_name": "HBoxModel",
            "_view_count": null,
            "_view_module": "@jupyter-widgets/controls",
            "_view_module_version": "1.5.0",
            "_view_name": "HBoxView",
            "box_style": "",
            "children": [
              "IPY_MODEL_8cda0d800aef436b83e41f76152dbeb0",
              "IPY_MODEL_cd683d5f821747488b17f2da06f6753e",
              "IPY_MODEL_32b7e9cf747644809194f17ba6268d53"
            ],
            "layout": "IPY_MODEL_4781b79d0a9749c6b5f70d080b42a0f2"
          }
        },
        "8cda0d800aef436b83e41f76152dbeb0": {
          "model_module": "@jupyter-widgets/controls",
          "model_name": "HTMLModel",
          "model_module_version": "1.5.0",
          "state": {
            "_dom_classes": [],
            "_model_module": "@jupyter-widgets/controls",
            "_model_module_version": "1.5.0",
            "_model_name": "HTMLModel",
            "_view_count": null,
            "_view_module": "@jupyter-widgets/controls",
            "_view_module_version": "1.5.0",
            "_view_name": "HTMLView",
            "description": "",
            "description_tooltip": null,
            "layout": "IPY_MODEL_f10e9a3312be467196b5c13dc3fb1c92",
            "placeholder": "​",
            "style": "IPY_MODEL_0f6c5d8d5728412e96cb0548caf8bac6",
            "value": "Downloading (…)/main/tokenizer.json: 100%"
          }
        },
        "cd683d5f821747488b17f2da06f6753e": {
          "model_module": "@jupyter-widgets/controls",
          "model_name": "FloatProgressModel",
          "model_module_version": "1.5.0",
          "state": {
            "_dom_classes": [],
            "_model_module": "@jupyter-widgets/controls",
            "_model_module_version": "1.5.0",
            "_model_name": "FloatProgressModel",
            "_view_count": null,
            "_view_module": "@jupyter-widgets/controls",
            "_view_module_version": "1.5.0",
            "_view_name": "ProgressView",
            "bar_style": "success",
            "description": "",
            "description_tooltip": null,
            "layout": "IPY_MODEL_c728cc51d28341ba8b68a9a1f2bec9e4",
            "max": 1355256,
            "min": 0,
            "orientation": "horizontal",
            "style": "IPY_MODEL_7488c01ebf94472c8e6d4c9e6650fbb4",
            "value": 1355256
          }
        },
        "32b7e9cf747644809194f17ba6268d53": {
          "model_module": "@jupyter-widgets/controls",
          "model_name": "HTMLModel",
          "model_module_version": "1.5.0",
          "state": {
            "_dom_classes": [],
            "_model_module": "@jupyter-widgets/controls",
            "_model_module_version": "1.5.0",
            "_model_name": "HTMLModel",
            "_view_count": null,
            "_view_module": "@jupyter-widgets/controls",
            "_view_module_version": "1.5.0",
            "_view_name": "HTMLView",
            "description": "",
            "description_tooltip": null,
            "layout": "IPY_MODEL_ffcedb6f13ff4b3ca9bc8e74863de03e",
            "placeholder": "​",
            "style": "IPY_MODEL_802c06c8341d4a059ae497d8f6107fab",
            "value": " 1.36M/1.36M [00:00&lt;00:00, 12.6MB/s]"
          }
        },
        "4781b79d0a9749c6b5f70d080b42a0f2": {
          "model_module": "@jupyter-widgets/base",
          "model_name": "LayoutModel",
          "model_module_version": "1.2.0",
          "state": {
            "_model_module": "@jupyter-widgets/base",
            "_model_module_version": "1.2.0",
            "_model_name": "LayoutModel",
            "_view_count": null,
            "_view_module": "@jupyter-widgets/base",
            "_view_module_version": "1.2.0",
            "_view_name": "LayoutView",
            "align_content": null,
            "align_items": null,
            "align_self": null,
            "border": null,
            "bottom": null,
            "display": null,
            "flex": null,
            "flex_flow": null,
            "grid_area": null,
            "grid_auto_columns": null,
            "grid_auto_flow": null,
            "grid_auto_rows": null,
            "grid_column": null,
            "grid_gap": null,
            "grid_row": null,
            "grid_template_areas": null,
            "grid_template_columns": null,
            "grid_template_rows": null,
            "height": null,
            "justify_content": null,
            "justify_items": null,
            "left": null,
            "margin": null,
            "max_height": null,
            "max_width": null,
            "min_height": null,
            "min_width": null,
            "object_fit": null,
            "object_position": null,
            "order": null,
            "overflow": null,
            "overflow_x": null,
            "overflow_y": null,
            "padding": null,
            "right": null,
            "top": null,
            "visibility": null,
            "width": null
          }
        },
        "f10e9a3312be467196b5c13dc3fb1c92": {
          "model_module": "@jupyter-widgets/base",
          "model_name": "LayoutModel",
          "model_module_version": "1.2.0",
          "state": {
            "_model_module": "@jupyter-widgets/base",
            "_model_module_version": "1.2.0",
            "_model_name": "LayoutModel",
            "_view_count": null,
            "_view_module": "@jupyter-widgets/base",
            "_view_module_version": "1.2.0",
            "_view_name": "LayoutView",
            "align_content": null,
            "align_items": null,
            "align_self": null,
            "border": null,
            "bottom": null,
            "display": null,
            "flex": null,
            "flex_flow": null,
            "grid_area": null,
            "grid_auto_columns": null,
            "grid_auto_flow": null,
            "grid_auto_rows": null,
            "grid_column": null,
            "grid_gap": null,
            "grid_row": null,
            "grid_template_areas": null,
            "grid_template_columns": null,
            "grid_template_rows": null,
            "height": null,
            "justify_content": null,
            "justify_items": null,
            "left": null,
            "margin": null,
            "max_height": null,
            "max_width": null,
            "min_height": null,
            "min_width": null,
            "object_fit": null,
            "object_position": null,
            "order": null,
            "overflow": null,
            "overflow_x": null,
            "overflow_y": null,
            "padding": null,
            "right": null,
            "top": null,
            "visibility": null,
            "width": null
          }
        },
        "0f6c5d8d5728412e96cb0548caf8bac6": {
          "model_module": "@jupyter-widgets/controls",
          "model_name": "DescriptionStyleModel",
          "model_module_version": "1.5.0",
          "state": {
            "_model_module": "@jupyter-widgets/controls",
            "_model_module_version": "1.5.0",
            "_model_name": "DescriptionStyleModel",
            "_view_count": null,
            "_view_module": "@jupyter-widgets/base",
            "_view_module_version": "1.2.0",
            "_view_name": "StyleView",
            "description_width": ""
          }
        },
        "c728cc51d28341ba8b68a9a1f2bec9e4": {
          "model_module": "@jupyter-widgets/base",
          "model_name": "LayoutModel",
          "model_module_version": "1.2.0",
          "state": {
            "_model_module": "@jupyter-widgets/base",
            "_model_module_version": "1.2.0",
            "_model_name": "LayoutModel",
            "_view_count": null,
            "_view_module": "@jupyter-widgets/base",
            "_view_module_version": "1.2.0",
            "_view_name": "LayoutView",
            "align_content": null,
            "align_items": null,
            "align_self": null,
            "border": null,
            "bottom": null,
            "display": null,
            "flex": null,
            "flex_flow": null,
            "grid_area": null,
            "grid_auto_columns": null,
            "grid_auto_flow": null,
            "grid_auto_rows": null,
            "grid_column": null,
            "grid_gap": null,
            "grid_row": null,
            "grid_template_areas": null,
            "grid_template_columns": null,
            "grid_template_rows": null,
            "height": null,
            "justify_content": null,
            "justify_items": null,
            "left": null,
            "margin": null,
            "max_height": null,
            "max_width": null,
            "min_height": null,
            "min_width": null,
            "object_fit": null,
            "object_position": null,
            "order": null,
            "overflow": null,
            "overflow_x": null,
            "overflow_y": null,
            "padding": null,
            "right": null,
            "top": null,
            "visibility": null,
            "width": null
          }
        },
        "7488c01ebf94472c8e6d4c9e6650fbb4": {
          "model_module": "@jupyter-widgets/controls",
          "model_name": "ProgressStyleModel",
          "model_module_version": "1.5.0",
          "state": {
            "_model_module": "@jupyter-widgets/controls",
            "_model_module_version": "1.5.0",
            "_model_name": "ProgressStyleModel",
            "_view_count": null,
            "_view_module": "@jupyter-widgets/base",
            "_view_module_version": "1.2.0",
            "_view_name": "StyleView",
            "bar_color": null,
            "description_width": ""
          }
        },
        "ffcedb6f13ff4b3ca9bc8e74863de03e": {
          "model_module": "@jupyter-widgets/base",
          "model_name": "LayoutModel",
          "model_module_version": "1.2.0",
          "state": {
            "_model_module": "@jupyter-widgets/base",
            "_model_module_version": "1.2.0",
            "_model_name": "LayoutModel",
            "_view_count": null,
            "_view_module": "@jupyter-widgets/base",
            "_view_module_version": "1.2.0",
            "_view_name": "LayoutView",
            "align_content": null,
            "align_items": null,
            "align_self": null,
            "border": null,
            "bottom": null,
            "display": null,
            "flex": null,
            "flex_flow": null,
            "grid_area": null,
            "grid_auto_columns": null,
            "grid_auto_flow": null,
            "grid_auto_rows": null,
            "grid_column": null,
            "grid_gap": null,
            "grid_row": null,
            "grid_template_areas": null,
            "grid_template_columns": null,
            "grid_template_rows": null,
            "height": null,
            "justify_content": null,
            "justify_items": null,
            "left": null,
            "margin": null,
            "max_height": null,
            "max_width": null,
            "min_height": null,
            "min_width": null,
            "object_fit": null,
            "object_position": null,
            "order": null,
            "overflow": null,
            "overflow_x": null,
            "overflow_y": null,
            "padding": null,
            "right": null,
            "top": null,
            "visibility": null,
            "width": null
          }
        },
        "802c06c8341d4a059ae497d8f6107fab": {
          "model_module": "@jupyter-widgets/controls",
          "model_name": "DescriptionStyleModel",
          "model_module_version": "1.5.0",
          "state": {
            "_model_module": "@jupyter-widgets/controls",
            "_model_module_version": "1.5.0",
            "_model_name": "DescriptionStyleModel",
            "_view_count": null,
            "_view_module": "@jupyter-widgets/base",
            "_view_module_version": "1.2.0",
            "_view_name": "StyleView",
            "description_width": ""
          }
        },
        "bd0b398946914dc98bcfe24dc5d3f482": {
          "model_module": "@jupyter-widgets/controls",
          "model_name": "HBoxModel",
          "model_module_version": "1.5.0",
          "state": {
            "_dom_classes": [],
            "_model_module": "@jupyter-widgets/controls",
            "_model_module_version": "1.5.0",
            "_model_name": "HBoxModel",
            "_view_count": null,
            "_view_module": "@jupyter-widgets/controls",
            "_view_module_version": "1.5.0",
            "_view_name": "HBoxView",
            "box_style": "",
            "children": [
              "IPY_MODEL_f3e7c7a153bb488e9d3b155458531651",
              "IPY_MODEL_1c9033ee23b542fba025c35f29591807",
              "IPY_MODEL_80ee0dfceba14ba5873438de1695adcd"
            ],
            "layout": "IPY_MODEL_824a1f5868d042d7b06e719df23a998a"
          }
        },
        "f3e7c7a153bb488e9d3b155458531651": {
          "model_module": "@jupyter-widgets/controls",
          "model_name": "HTMLModel",
          "model_module_version": "1.5.0",
          "state": {
            "_dom_classes": [],
            "_model_module": "@jupyter-widgets/controls",
            "_model_module_version": "1.5.0",
            "_model_name": "HTMLModel",
            "_view_count": null,
            "_view_module": "@jupyter-widgets/controls",
            "_view_module_version": "1.5.0",
            "_view_name": "HTMLView",
            "description": "",
            "description_tooltip": null,
            "layout": "IPY_MODEL_f435bbddeb0b4b7fbe221763edba3035",
            "placeholder": "​",
            "style": "IPY_MODEL_e6892808d3c04cae8b9d5035241f97c9",
            "value": "Downloading (…)lve/main/config.json: 100%"
          }
        },
        "1c9033ee23b542fba025c35f29591807": {
          "model_module": "@jupyter-widgets/controls",
          "model_name": "FloatProgressModel",
          "model_module_version": "1.5.0",
          "state": {
            "_dom_classes": [],
            "_model_module": "@jupyter-widgets/controls",
            "_model_module_version": "1.5.0",
            "_model_name": "FloatProgressModel",
            "_view_count": null,
            "_view_module": "@jupyter-widgets/controls",
            "_view_module_version": "1.5.0",
            "_view_name": "ProgressView",
            "bar_style": "success",
            "description": "",
            "description_tooltip": null,
            "layout": "IPY_MODEL_06fa22929e65419f9fd2c6ba18202844",
            "max": 665,
            "min": 0,
            "orientation": "horizontal",
            "style": "IPY_MODEL_18140300fb594acca9cdb6a569d82e25",
            "value": 665
          }
        },
        "80ee0dfceba14ba5873438de1695adcd": {
          "model_module": "@jupyter-widgets/controls",
          "model_name": "HTMLModel",
          "model_module_version": "1.5.0",
          "state": {
            "_dom_classes": [],
            "_model_module": "@jupyter-widgets/controls",
            "_model_module_version": "1.5.0",
            "_model_name": "HTMLModel",
            "_view_count": null,
            "_view_module": "@jupyter-widgets/controls",
            "_view_module_version": "1.5.0",
            "_view_name": "HTMLView",
            "description": "",
            "description_tooltip": null,
            "layout": "IPY_MODEL_c4562fe759914b8cb048c8ef3eb0668a",
            "placeholder": "​",
            "style": "IPY_MODEL_1abc6d28810d45f984a333d0f9826c72",
            "value": " 665/665 [00:00&lt;00:00, 27.9kB/s]"
          }
        },
        "824a1f5868d042d7b06e719df23a998a": {
          "model_module": "@jupyter-widgets/base",
          "model_name": "LayoutModel",
          "model_module_version": "1.2.0",
          "state": {
            "_model_module": "@jupyter-widgets/base",
            "_model_module_version": "1.2.0",
            "_model_name": "LayoutModel",
            "_view_count": null,
            "_view_module": "@jupyter-widgets/base",
            "_view_module_version": "1.2.0",
            "_view_name": "LayoutView",
            "align_content": null,
            "align_items": null,
            "align_self": null,
            "border": null,
            "bottom": null,
            "display": null,
            "flex": null,
            "flex_flow": null,
            "grid_area": null,
            "grid_auto_columns": null,
            "grid_auto_flow": null,
            "grid_auto_rows": null,
            "grid_column": null,
            "grid_gap": null,
            "grid_row": null,
            "grid_template_areas": null,
            "grid_template_columns": null,
            "grid_template_rows": null,
            "height": null,
            "justify_content": null,
            "justify_items": null,
            "left": null,
            "margin": null,
            "max_height": null,
            "max_width": null,
            "min_height": null,
            "min_width": null,
            "object_fit": null,
            "object_position": null,
            "order": null,
            "overflow": null,
            "overflow_x": null,
            "overflow_y": null,
            "padding": null,
            "right": null,
            "top": null,
            "visibility": null,
            "width": null
          }
        },
        "f435bbddeb0b4b7fbe221763edba3035": {
          "model_module": "@jupyter-widgets/base",
          "model_name": "LayoutModel",
          "model_module_version": "1.2.0",
          "state": {
            "_model_module": "@jupyter-widgets/base",
            "_model_module_version": "1.2.0",
            "_model_name": "LayoutModel",
            "_view_count": null,
            "_view_module": "@jupyter-widgets/base",
            "_view_module_version": "1.2.0",
            "_view_name": "LayoutView",
            "align_content": null,
            "align_items": null,
            "align_self": null,
            "border": null,
            "bottom": null,
            "display": null,
            "flex": null,
            "flex_flow": null,
            "grid_area": null,
            "grid_auto_columns": null,
            "grid_auto_flow": null,
            "grid_auto_rows": null,
            "grid_column": null,
            "grid_gap": null,
            "grid_row": null,
            "grid_template_areas": null,
            "grid_template_columns": null,
            "grid_template_rows": null,
            "height": null,
            "justify_content": null,
            "justify_items": null,
            "left": null,
            "margin": null,
            "max_height": null,
            "max_width": null,
            "min_height": null,
            "min_width": null,
            "object_fit": null,
            "object_position": null,
            "order": null,
            "overflow": null,
            "overflow_x": null,
            "overflow_y": null,
            "padding": null,
            "right": null,
            "top": null,
            "visibility": null,
            "width": null
          }
        },
        "e6892808d3c04cae8b9d5035241f97c9": {
          "model_module": "@jupyter-widgets/controls",
          "model_name": "DescriptionStyleModel",
          "model_module_version": "1.5.0",
          "state": {
            "_model_module": "@jupyter-widgets/controls",
            "_model_module_version": "1.5.0",
            "_model_name": "DescriptionStyleModel",
            "_view_count": null,
            "_view_module": "@jupyter-widgets/base",
            "_view_module_version": "1.2.0",
            "_view_name": "StyleView",
            "description_width": ""
          }
        },
        "06fa22929e65419f9fd2c6ba18202844": {
          "model_module": "@jupyter-widgets/base",
          "model_name": "LayoutModel",
          "model_module_version": "1.2.0",
          "state": {
            "_model_module": "@jupyter-widgets/base",
            "_model_module_version": "1.2.0",
            "_model_name": "LayoutModel",
            "_view_count": null,
            "_view_module": "@jupyter-widgets/base",
            "_view_module_version": "1.2.0",
            "_view_name": "LayoutView",
            "align_content": null,
            "align_items": null,
            "align_self": null,
            "border": null,
            "bottom": null,
            "display": null,
            "flex": null,
            "flex_flow": null,
            "grid_area": null,
            "grid_auto_columns": null,
            "grid_auto_flow": null,
            "grid_auto_rows": null,
            "grid_column": null,
            "grid_gap": null,
            "grid_row": null,
            "grid_template_areas": null,
            "grid_template_columns": null,
            "grid_template_rows": null,
            "height": null,
            "justify_content": null,
            "justify_items": null,
            "left": null,
            "margin": null,
            "max_height": null,
            "max_width": null,
            "min_height": null,
            "min_width": null,
            "object_fit": null,
            "object_position": null,
            "order": null,
            "overflow": null,
            "overflow_x": null,
            "overflow_y": null,
            "padding": null,
            "right": null,
            "top": null,
            "visibility": null,
            "width": null
          }
        },
        "18140300fb594acca9cdb6a569d82e25": {
          "model_module": "@jupyter-widgets/controls",
          "model_name": "ProgressStyleModel",
          "model_module_version": "1.5.0",
          "state": {
            "_model_module": "@jupyter-widgets/controls",
            "_model_module_version": "1.5.0",
            "_model_name": "ProgressStyleModel",
            "_view_count": null,
            "_view_module": "@jupyter-widgets/base",
            "_view_module_version": "1.2.0",
            "_view_name": "StyleView",
            "bar_color": null,
            "description_width": ""
          }
        },
        "c4562fe759914b8cb048c8ef3eb0668a": {
          "model_module": "@jupyter-widgets/base",
          "model_name": "LayoutModel",
          "model_module_version": "1.2.0",
          "state": {
            "_model_module": "@jupyter-widgets/base",
            "_model_module_version": "1.2.0",
            "_model_name": "LayoutModel",
            "_view_count": null,
            "_view_module": "@jupyter-widgets/base",
            "_view_module_version": "1.2.0",
            "_view_name": "LayoutView",
            "align_content": null,
            "align_items": null,
            "align_self": null,
            "border": null,
            "bottom": null,
            "display": null,
            "flex": null,
            "flex_flow": null,
            "grid_area": null,
            "grid_auto_columns": null,
            "grid_auto_flow": null,
            "grid_auto_rows": null,
            "grid_column": null,
            "grid_gap": null,
            "grid_row": null,
            "grid_template_areas": null,
            "grid_template_columns": null,
            "grid_template_rows": null,
            "height": null,
            "justify_content": null,
            "justify_items": null,
            "left": null,
            "margin": null,
            "max_height": null,
            "max_width": null,
            "min_height": null,
            "min_width": null,
            "object_fit": null,
            "object_position": null,
            "order": null,
            "overflow": null,
            "overflow_x": null,
            "overflow_y": null,
            "padding": null,
            "right": null,
            "top": null,
            "visibility": null,
            "width": null
          }
        },
        "1abc6d28810d45f984a333d0f9826c72": {
          "model_module": "@jupyter-widgets/controls",
          "model_name": "DescriptionStyleModel",
          "model_module_version": "1.5.0",
          "state": {
            "_model_module": "@jupyter-widgets/controls",
            "_model_module_version": "1.5.0",
            "_model_name": "DescriptionStyleModel",
            "_view_count": null,
            "_view_module": "@jupyter-widgets/base",
            "_view_module_version": "1.2.0",
            "_view_name": "StyleView",
            "description_width": ""
          }
        }
      }
    }
  },
  "cells": [
    {
      "cell_type": "markdown",
      "source": [
        "You have to create a langchain conversational agent for the dataset mentioned below\n",
        "\n",
        "Steps:\n",
        "\n",
        "1- Download the dataset from: https://www.kaggle.com/datasets/jacksoncrow/stock-market-dataset\n",
        "\n",
        "2- From the structured data, create unstructured data like the figure mentioned below\n",
        "![dataframe-prompt-tabular.webp](data:image/webp;base64,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)\n",
        "3 - Create a langchain conversational agent from the langchain website. Below is an example of such an agent:\n",
        "\n",
        "https://python.langchain.com/en/latest/modules/agents/agents/custom_llm_chat_agent.html"
      ],
      "metadata": {
        "id": "N9TdQSWKHJaq"
      }
    },
    {
      "cell_type": "markdown",
      "source": [
        "# **Part - 01**\n",
        "\n",
        "Creating unstructured data from structured data"
      ],
      "metadata": {
        "id": "7KO5nWYuIf8P"
      }
    },
    {
      "cell_type": "markdown",
      "source": [
        "## SubStep 01\n",
        "Download data from Kaggle and upload to Colab environment\n",
        "\n",
        "1.   Download data from Kaggle and upload to Colab environment\n",
        "2.   Unzip the files\n",
        "3.   Merge Etfs Files into one CSV (), keeping file name, which will be the key for merging data with meta data file\n",
        "4.   Now join the meta data and get the all columns\n",
        "5.   Iterate through all rows and with the help of lamda function, convert data into unstructure data and save it in additional columns 'unstructured_data'\n",
        "6.   Similarly we will do with stock folder (Step 3 to Step 5)\n",
        "7.   As the size of the of consolidated file is huge, will process data in batches and later will merge the data into one file\n",
        "\n"
      ],
      "metadata": {
        "id": "1MUylwUmJAaj"
      }
    },
    {
      "cell_type": "code",
      "source": [
        "import pandas as pd\n",
        "import os\n",
        "import glob"
      ],
      "metadata": {
        "id": "82SLaP6fId1W"
      },
      "execution_count": null,
      "outputs": []
    },
    {
      "cell_type": "code",
      "source": [
        "import zipfile\n",
        "\n",
        "def unzip_folder(zip_path, output_path):\n",
        "    with zipfile.ZipFile(zip_path, 'r') as zip_ref:\n",
        "        zip_ref.extractall(output_path)\n",
        "\n",
        "# Usage\n",
        "zip_path = r'/content/drive/MyDrive/MSDS/NLP Midterm/stock_data.zip'\n",
        "output_path = r'.'\n",
        "\n",
        "unzip_folder(zip_path, output_path)\n"
      ],
      "metadata": {
        "id": "4ijm98jYQNOT"
      },
      "execution_count": null,
      "outputs": []
    },
    {
      "cell_type": "code",
      "execution_count": null,
      "metadata": {
        "id": "JOSXvQkbHE1f"
      },
      "outputs": [],
      "source": [
        "# get data file names\n",
        "path =r'/content/etfs' # use your path\n",
        "allFiles = glob.glob(path + \"/*.csv\")\n",
        "frame = pd.DataFrame()\n",
        "list_ = []\n",
        "for file_ in allFiles:\n",
        "    df = pd.read_csv(file_,index_col=None, header=0)\n",
        "    df['file_name'] = file_\n",
        "    list_.append(df)\n",
        "frame = pd.concat(list_)\n",
        "frame.to_csv('etfs.csv', index=False)\n",
        "# clean memory\n",
        "del frame"
      ]
    },
    {
      "cell_type": "code",
      "source": [
        "# remove the path from the file name and '.csv', only to be stored in same column\n",
        "etfs = pd.read_csv('etfs.csv')\n",
        "etfs['file_name'] = etfs['file_name'].str.replace(r'etfs/', '')\n",
        "etfs['file_name'] = etfs['file_name'].str.replace(r'.csv', '')\n",
        "etfs['file_name'] = etfs['file_name'].str.replace(r'/content/', '')\n",
        "etfs.head()"
      ],
      "metadata": {
        "id": "m_pPnkXgLr_S",
        "colab": {
          "base_uri": "https://localhost:8080/",
          "height": 241
        },
        "outputId": "a14caacf-faf1-4244-9859-759de1fdad96"
      },
      "execution_count": null,
      "outputs": [
        {
          "output_type": "stream",
          "name": "stderr",
          "text": [
            "<ipython-input-14-dbede68ed70a>:4: FutureWarning: The default value of regex will change from True to False in a future version.\n",
            "  etfs['file_name'] = etfs['file_name'].str.replace(r'.csv', '')\n"
          ]
        },
        {
          "output_type": "execute_result",
          "data": {
            "text/plain": [
              "         Date       Open       High        Low      Close  Adj Close  \\\n",
              "0  2017-05-11  24.870001  24.870001  24.870001  24.870001  23.437246   \n",
              "1  2017-05-12  24.903000  24.903000  24.903000  24.903000  23.468348   \n",
              "2  2017-05-15  25.000000  25.000000  24.987000  24.987000  23.547504   \n",
              "3  2017-05-16  24.987000  24.987000  24.987000  24.987000  23.547504   \n",
              "4  2017-05-17  24.650000  24.650000  24.650000  24.650000  23.229921   \n",
              "\n",
              "     Volume file_name  \n",
              "0  140000.0      LVUS  \n",
              "1    1000.0      LVUS  \n",
              "2     500.0      LVUS  \n",
              "3     100.0      LVUS  \n",
              "4     500.0      LVUS  "
            ],
            "text/html": [
              "\n",
              "  <div id=\"df-b4952406-a205-449e-840c-e0c772029fb6\">\n",
              "    <div class=\"colab-df-container\">\n",
              "      <div>\n",
              "<style scoped>\n",
              "    .dataframe tbody tr th:only-of-type {\n",
              "        vertical-align: middle;\n",
              "    }\n",
              "\n",
              "    .dataframe tbody tr th {\n",
              "        vertical-align: top;\n",
              "    }\n",
              "\n",
              "    .dataframe thead th {\n",
              "        text-align: right;\n",
              "    }\n",
              "</style>\n",
              "<table border=\"1\" class=\"dataframe\">\n",
              "  <thead>\n",
              "    <tr style=\"text-align: right;\">\n",
              "      <th></th>\n",
              "      <th>Date</th>\n",
              "      <th>Open</th>\n",
              "      <th>High</th>\n",
              "      <th>Low</th>\n",
              "      <th>Close</th>\n",
              "      <th>Adj Close</th>\n",
              "      <th>Volume</th>\n",
              "      <th>file_name</th>\n",
              "    </tr>\n",
              "  </thead>\n",
              "  <tbody>\n",
              "    <tr>\n",
              "      <th>0</th>\n",
              "      <td>2017-05-11</td>\n",
              "      <td>24.870001</td>\n",
              "      <td>24.870001</td>\n",
              "      <td>24.870001</td>\n",
              "      <td>24.870001</td>\n",
              "      <td>23.437246</td>\n",
              "      <td>140000.0</td>\n",
              "      <td>LVUS</td>\n",
              "    </tr>\n",
              "    <tr>\n",
              "      <th>1</th>\n",
              "      <td>2017-05-12</td>\n",
              "      <td>24.903000</td>\n",
              "      <td>24.903000</td>\n",
              "      <td>24.903000</td>\n",
              "      <td>24.903000</td>\n",
              "      <td>23.468348</td>\n",
              "      <td>1000.0</td>\n",
              "      <td>LVUS</td>\n",
              "    </tr>\n",
              "    <tr>\n",
              "      <th>2</th>\n",
              "      <td>2017-05-15</td>\n",
              "      <td>25.000000</td>\n",
              "      <td>25.000000</td>\n",
              "      <td>24.987000</td>\n",
              "      <td>24.987000</td>\n",
              "      <td>23.547504</td>\n",
              "      <td>500.0</td>\n",
              "      <td>LVUS</td>\n",
              "    </tr>\n",
              "    <tr>\n",
              "      <th>3</th>\n",
              "      <td>2017-05-16</td>\n",
              "      <td>24.987000</td>\n",
              "      <td>24.987000</td>\n",
              "      <td>24.987000</td>\n",
              "      <td>24.987000</td>\n",
              "      <td>23.547504</td>\n",
              "      <td>100.0</td>\n",
              "      <td>LVUS</td>\n",
              "    </tr>\n",
              "    <tr>\n",
              "      <th>4</th>\n",
              "      <td>2017-05-17</td>\n",
              "      <td>24.650000</td>\n",
              "      <td>24.650000</td>\n",
              "      <td>24.650000</td>\n",
              "      <td>24.650000</td>\n",
              "      <td>23.229921</td>\n",
              "      <td>500.0</td>\n",
              "      <td>LVUS</td>\n",
              "    </tr>\n",
              "  </tbody>\n",
              "</table>\n",
              "</div>\n",
              "      <button class=\"colab-df-convert\" onclick=\"convertToInteractive('df-b4952406-a205-449e-840c-e0c772029fb6')\"\n",
              "              title=\"Convert this dataframe to an interactive table.\"\n",
              "              style=\"display:none;\">\n",
              "        \n",
              "  <svg xmlns=\"http://www.w3.org/2000/svg\" height=\"24px\"viewBox=\"0 0 24 24\"\n",
              "       width=\"24px\">\n",
              "    <path d=\"M0 0h24v24H0V0z\" fill=\"none\"/>\n",
              "    <path d=\"M18.56 5.44l.94 2.06.94-2.06 2.06-.94-2.06-.94-.94-2.06-.94 2.06-2.06.94zm-11 1L8.5 8.5l.94-2.06 2.06-.94-2.06-.94L8.5 2.5l-.94 2.06-2.06.94zm10 10l.94 2.06.94-2.06 2.06-.94-2.06-.94-.94-2.06-.94 2.06-2.06.94z\"/><path d=\"M17.41 7.96l-1.37-1.37c-.4-.4-.92-.59-1.43-.59-.52 0-1.04.2-1.43.59L10.3 9.45l-7.72 7.72c-.78.78-.78 2.05 0 2.83L4 21.41c.39.39.9.59 1.41.59.51 0 1.02-.2 1.41-.59l7.78-7.78 2.81-2.81c.8-.78.8-2.07 0-2.86zM5.41 20L4 18.59l7.72-7.72 1.47 1.35L5.41 20z\"/>\n",
              "  </svg>\n",
              "      </button>\n",
              "      \n",
              "  <style>\n",
              "    .colab-df-container {\n",
              "      display:flex;\n",
              "      flex-wrap:wrap;\n",
              "      gap: 12px;\n",
              "    }\n",
              "\n",
              "    .colab-df-convert {\n",
              "      background-color: #E8F0FE;\n",
              "      border: none;\n",
              "      border-radius: 50%;\n",
              "      cursor: pointer;\n",
              "      display: none;\n",
              "      fill: #1967D2;\n",
              "      height: 32px;\n",
              "      padding: 0 0 0 0;\n",
              "      width: 32px;\n",
              "    }\n",
              "\n",
              "    .colab-df-convert:hover {\n",
              "      background-color: #E2EBFA;\n",
              "      box-shadow: 0px 1px 2px rgba(60, 64, 67, 0.3), 0px 1px 3px 1px rgba(60, 64, 67, 0.15);\n",
              "      fill: #174EA6;\n",
              "    }\n",
              "\n",
              "    [theme=dark] .colab-df-convert {\n",
              "      background-color: #3B4455;\n",
              "      fill: #D2E3FC;\n",
              "    }\n",
              "\n",
              "    [theme=dark] .colab-df-convert:hover {\n",
              "      background-color: #434B5C;\n",
              "      box-shadow: 0px 1px 3px 1px rgba(0, 0, 0, 0.15);\n",
              "      filter: drop-shadow(0px 1px 2px rgba(0, 0, 0, 0.3));\n",
              "      fill: #FFFFFF;\n",
              "    }\n",
              "  </style>\n",
              "\n",
              "      <script>\n",
              "        const buttonEl =\n",
              "          document.querySelector('#df-b4952406-a205-449e-840c-e0c772029fb6 button.colab-df-convert');\n",
              "        buttonEl.style.display =\n",
              "          google.colab.kernel.accessAllowed ? 'block' : 'none';\n",
              "\n",
              "        async function convertToInteractive(key) {\n",
              "          const element = document.querySelector('#df-b4952406-a205-449e-840c-e0c772029fb6');\n",
              "          const dataTable =\n",
              "            await google.colab.kernel.invokeFunction('convertToInteractive',\n",
              "                                                     [key], {});\n",
              "          if (!dataTable) return;\n",
              "\n",
              "          const docLinkHtml = 'Like what you see? Visit the ' +\n",
              "            '<a target=\"_blank\" href=https://colab.research.google.com/notebooks/data_table.ipynb>data table notebook</a>'\n",
              "            + ' to learn more about interactive tables.';\n",
              "          element.innerHTML = '';\n",
              "          dataTable['output_type'] = 'display_data';\n",
              "          await google.colab.output.renderOutput(dataTable, element);\n",
              "          const docLink = document.createElement('div');\n",
              "          docLink.innerHTML = docLinkHtml;\n",
              "          element.appendChild(docLink);\n",
              "        }\n",
              "      </script>\n",
              "    </div>\n",
              "  </div>\n",
              "  "
            ]
          },
          "metadata": {},
          "execution_count": 14
        }
      ]
    },
    {
      "cell_type": "code",
      "source": [
        "metaData = pd.read_csv('symbols_valid_meta.csv')"
      ],
      "metadata": {
        "id": "byrdwtUVL1oF"
      },
      "execution_count": null,
      "outputs": []
    },
    {
      "cell_type": "code",
      "source": [
        "# add additional columns to the etfs dataframe from metaData dataframe where the symbol and file_name are the same as inner join\n",
        "etfs = pd.merge(etfs, metaData,  how='inner', left_on=['file_name'], right_on = ['Symbol'])\n",
        "etfs.head()"
      ],
      "metadata": {
        "id": "6JkXUXKUL4ay",
        "colab": {
          "base_uri": "https://localhost:8080/",
          "height": 738
        },
        "outputId": "330f7c57-16d4-49c0-8ffc-316eabd80d56"
      },
      "execution_count": null,
      "outputs": [
        {
          "output_type": "execute_result",
          "data": {
            "text/plain": [
              "         Date       Open       High        Low      Close  Adj Close  \\\n",
              "0  2017-05-11  24.870001  24.870001  24.870001  24.870001  23.437246   \n",
              "1  2017-05-12  24.903000  24.903000  24.903000  24.903000  23.468348   \n",
              "2  2017-05-15  25.000000  25.000000  24.987000  24.987000  23.547504   \n",
              "3  2017-05-16  24.987000  24.987000  24.987000  24.987000  23.547504   \n",
              "4  2017-05-17  24.650000  24.650000  24.650000  24.650000  23.229921   \n",
              "\n",
              "     Volume file_name Nasdaq Traded Symbol  \\\n",
              "0  140000.0      LVUS             Y   LVUS   \n",
              "1    1000.0      LVUS             Y   LVUS   \n",
              "2     500.0      LVUS             Y   LVUS   \n",
              "3     100.0      LVUS             Y   LVUS   \n",
              "4     500.0      LVUS             Y   LVUS   \n",
              "\n",
              "                                       Security Name Listing Exchange  \\\n",
              "0  Hartford Multifactor Low Volatility US Equity ETF                Z   \n",
              "1  Hartford Multifactor Low Volatility US Equity ETF                Z   \n",
              "2  Hartford Multifactor Low Volatility US Equity ETF                Z   \n",
              "3  Hartford Multifactor Low Volatility US Equity ETF                Z   \n",
              "4  Hartford Multifactor Low Volatility US Equity ETF                Z   \n",
              "\n",
              "  Market Category ETF  Round Lot Size Test Issue Financial Status CQS Symbol  \\\n",
              "0                   Y           100.0          N              NaN       LVUS   \n",
              "1                   Y           100.0          N              NaN       LVUS   \n",
              "2                   Y           100.0          N              NaN       LVUS   \n",
              "3                   Y           100.0          N              NaN       LVUS   \n",
              "4                   Y           100.0          N              NaN       LVUS   \n",
              "\n",
              "  NASDAQ Symbol NextShares  \n",
              "0          LVUS          N  \n",
              "1          LVUS          N  \n",
              "2          LVUS          N  \n",
              "3          LVUS          N  \n",
              "4          LVUS          N  "
            ],
            "text/html": [
              "\n",
              "  <div id=\"df-bd19ffd4-f1e0-479c-8867-4f6c10701157\">\n",
              "    <div class=\"colab-df-container\">\n",
              "      <div>\n",
              "<style scoped>\n",
              "    .dataframe tbody tr th:only-of-type {\n",
              "        vertical-align: middle;\n",
              "    }\n",
              "\n",
              "    .dataframe tbody tr th {\n",
              "        vertical-align: top;\n",
              "    }\n",
              "\n",
              "    .dataframe thead th {\n",
              "        text-align: right;\n",
              "    }\n",
              "</style>\n",
              "<table border=\"1\" class=\"dataframe\">\n",
              "  <thead>\n",
              "    <tr style=\"text-align: right;\">\n",
              "      <th></th>\n",
              "      <th>Date</th>\n",
              "      <th>Open</th>\n",
              "      <th>High</th>\n",
              "      <th>Low</th>\n",
              "      <th>Close</th>\n",
              "      <th>Adj Close</th>\n",
              "      <th>Volume</th>\n",
              "      <th>file_name</th>\n",
              "      <th>Nasdaq Traded</th>\n",
              "      <th>Symbol</th>\n",
              "      <th>Security Name</th>\n",
              "      <th>Listing Exchange</th>\n",
              "      <th>Market Category</th>\n",
              "      <th>ETF</th>\n",
              "      <th>Round Lot Size</th>\n",
              "      <th>Test Issue</th>\n",
              "      <th>Financial Status</th>\n",
              "      <th>CQS Symbol</th>\n",
              "      <th>NASDAQ Symbol</th>\n",
              "      <th>NextShares</th>\n",
              "    </tr>\n",
              "  </thead>\n",
              "  <tbody>\n",
              "    <tr>\n",
              "      <th>0</th>\n",
              "      <td>2017-05-11</td>\n",
              "      <td>24.870001</td>\n",
              "      <td>24.870001</td>\n",
              "      <td>24.870001</td>\n",
              "      <td>24.870001</td>\n",
              "      <td>23.437246</td>\n",
              "      <td>140000.0</td>\n",
              "      <td>LVUS</td>\n",
              "      <td>Y</td>\n",
              "      <td>LVUS</td>\n",
              "      <td>Hartford Multifactor Low Volatility US Equity ETF</td>\n",
              "      <td>Z</td>\n",
              "      <td></td>\n",
              "      <td>Y</td>\n",
              "      <td>100.0</td>\n",
              "      <td>N</td>\n",
              "      <td>NaN</td>\n",
              "      <td>LVUS</td>\n",
              "      <td>LVUS</td>\n",
              "      <td>N</td>\n",
              "    </tr>\n",
              "    <tr>\n",
              "      <th>1</th>\n",
              "      <td>2017-05-12</td>\n",
              "      <td>24.903000</td>\n",
              "      <td>24.903000</td>\n",
              "      <td>24.903000</td>\n",
              "      <td>24.903000</td>\n",
              "      <td>23.468348</td>\n",
              "      <td>1000.0</td>\n",
              "      <td>LVUS</td>\n",
              "      <td>Y</td>\n",
              "      <td>LVUS</td>\n",
              "      <td>Hartford Multifactor Low Volatility US Equity ETF</td>\n",
              "      <td>Z</td>\n",
              "      <td></td>\n",
              "      <td>Y</td>\n",
              "      <td>100.0</td>\n",
              "      <td>N</td>\n",
              "      <td>NaN</td>\n",
              "      <td>LVUS</td>\n",
              "      <td>LVUS</td>\n",
              "      <td>N</td>\n",
              "    </tr>\n",
              "    <tr>\n",
              "      <th>2</th>\n",
              "      <td>2017-05-15</td>\n",
              "      <td>25.000000</td>\n",
              "      <td>25.000000</td>\n",
              "      <td>24.987000</td>\n",
              "      <td>24.987000</td>\n",
              "      <td>23.547504</td>\n",
              "      <td>500.0</td>\n",
              "      <td>LVUS</td>\n",
              "      <td>Y</td>\n",
              "      <td>LVUS</td>\n",
              "      <td>Hartford Multifactor Low Volatility US Equity ETF</td>\n",
              "      <td>Z</td>\n",
              "      <td></td>\n",
              "      <td>Y</td>\n",
              "      <td>100.0</td>\n",
              "      <td>N</td>\n",
              "      <td>NaN</td>\n",
              "      <td>LVUS</td>\n",
              "      <td>LVUS</td>\n",
              "      <td>N</td>\n",
              "    </tr>\n",
              "    <tr>\n",
              "      <th>3</th>\n",
              "      <td>2017-05-16</td>\n",
              "      <td>24.987000</td>\n",
              "      <td>24.987000</td>\n",
              "      <td>24.987000</td>\n",
              "      <td>24.987000</td>\n",
              "      <td>23.547504</td>\n",
              "      <td>100.0</td>\n",
              "      <td>LVUS</td>\n",
              "      <td>Y</td>\n",
              "      <td>LVUS</td>\n",
              "      <td>Hartford Multifactor Low Volatility US Equity ETF</td>\n",
              "      <td>Z</td>\n",
              "      <td></td>\n",
              "      <td>Y</td>\n",
              "      <td>100.0</td>\n",
              "      <td>N</td>\n",
              "      <td>NaN</td>\n",
              "      <td>LVUS</td>\n",
              "      <td>LVUS</td>\n",
              "      <td>N</td>\n",
              "    </tr>\n",
              "    <tr>\n",
              "      <th>4</th>\n",
              "      <td>2017-05-17</td>\n",
              "      <td>24.650000</td>\n",
              "      <td>24.650000</td>\n",
              "      <td>24.650000</td>\n",
              "      <td>24.650000</td>\n",
              "      <td>23.229921</td>\n",
              "      <td>500.0</td>\n",
              "      <td>LVUS</td>\n",
              "      <td>Y</td>\n",
              "      <td>LVUS</td>\n",
              "      <td>Hartford Multifactor Low Volatility US Equity ETF</td>\n",
              "      <td>Z</td>\n",
              "      <td></td>\n",
              "      <td>Y</td>\n",
              "      <td>100.0</td>\n",
              "      <td>N</td>\n",
              "      <td>NaN</td>\n",
              "      <td>LVUS</td>\n",
              "      <td>LVUS</td>\n",
              "      <td>N</td>\n",
              "    </tr>\n",
              "  </tbody>\n",
              "</table>\n",
              "</div>\n",
              "      <button class=\"colab-df-convert\" onclick=\"convertToInteractive('df-bd19ffd4-f1e0-479c-8867-4f6c10701157')\"\n",
              "              title=\"Convert this dataframe to an interactive table.\"\n",
              "              style=\"display:none;\">\n",
              "        \n",
              "  <svg xmlns=\"http://www.w3.org/2000/svg\" height=\"24px\"viewBox=\"0 0 24 24\"\n",
              "       width=\"24px\">\n",
              "    <path d=\"M0 0h24v24H0V0z\" fill=\"none\"/>\n",
              "    <path d=\"M18.56 5.44l.94 2.06.94-2.06 2.06-.94-2.06-.94-.94-2.06-.94 2.06-2.06.94zm-11 1L8.5 8.5l.94-2.06 2.06-.94-2.06-.94L8.5 2.5l-.94 2.06-2.06.94zm10 10l.94 2.06.94-2.06 2.06-.94-2.06-.94-.94-2.06-.94 2.06-2.06.94z\"/><path d=\"M17.41 7.96l-1.37-1.37c-.4-.4-.92-.59-1.43-.59-.52 0-1.04.2-1.43.59L10.3 9.45l-7.72 7.72c-.78.78-.78 2.05 0 2.83L4 21.41c.39.39.9.59 1.41.59.51 0 1.02-.2 1.41-.59l7.78-7.78 2.81-2.81c.8-.78.8-2.07 0-2.86zM5.41 20L4 18.59l7.72-7.72 1.47 1.35L5.41 20z\"/>\n",
              "  </svg>\n",
              "      </button>\n",
              "      \n",
              "  <style>\n",
              "    .colab-df-container {\n",
              "      display:flex;\n",
              "      flex-wrap:wrap;\n",
              "      gap: 12px;\n",
              "    }\n",
              "\n",
              "    .colab-df-convert {\n",
              "      background-color: #E8F0FE;\n",
              "      border: none;\n",
              "      border-radius: 50%;\n",
              "      cursor: pointer;\n",
              "      display: none;\n",
              "      fill: #1967D2;\n",
              "      height: 32px;\n",
              "      padding: 0 0 0 0;\n",
              "      width: 32px;\n",
              "    }\n",
              "\n",
              "    .colab-df-convert:hover {\n",
              "      background-color: #E2EBFA;\n",
              "      box-shadow: 0px 1px 2px rgba(60, 64, 67, 0.3), 0px 1px 3px 1px rgba(60, 64, 67, 0.15);\n",
              "      fill: #174EA6;\n",
              "    }\n",
              "\n",
              "    [theme=dark] .colab-df-convert {\n",
              "      background-color: #3B4455;\n",
              "      fill: #D2E3FC;\n",
              "    }\n",
              "\n",
              "    [theme=dark] .colab-df-convert:hover {\n",
              "      background-color: #434B5C;\n",
              "      box-shadow: 0px 1px 3px 1px rgba(0, 0, 0, 0.15);\n",
              "      filter: drop-shadow(0px 1px 2px rgba(0, 0, 0, 0.3));\n",
              "      fill: #FFFFFF;\n",
              "    }\n",
              "  </style>\n",
              "\n",
              "      <script>\n",
              "        const buttonEl =\n",
              "          document.querySelector('#df-bd19ffd4-f1e0-479c-8867-4f6c10701157 button.colab-df-convert');\n",
              "        buttonEl.style.display =\n",
              "          google.colab.kernel.accessAllowed ? 'block' : 'none';\n",
              "\n",
              "        async function convertToInteractive(key) {\n",
              "          const element = document.querySelector('#df-bd19ffd4-f1e0-479c-8867-4f6c10701157');\n",
              "          const dataTable =\n",
              "            await google.colab.kernel.invokeFunction('convertToInteractive',\n",
              "                                                     [key], {});\n",
              "          if (!dataTable) return;\n",
              "\n",
              "          const docLinkHtml = 'Like what you see? Visit the ' +\n",
              "            '<a target=\"_blank\" href=https://colab.research.google.com/notebooks/data_table.ipynb>data table notebook</a>'\n",
              "            + ' to learn more about interactive tables.';\n",
              "          element.innerHTML = '';\n",
              "          dataTable['output_type'] = 'display_data';\n",
              "          await google.colab.output.renderOutput(dataTable, element);\n",
              "          const docLink = document.createElement('div');\n",
              "          docLink.innerHTML = docLinkHtml;\n",
              "          element.appendChild(docLink);\n",
              "        }\n",
              "      </script>\n",
              "    </div>\n",
              "  </div>\n",
              "  "
            ]
          },
          "metadata": {},
          "execution_count": 16
        }
      ]
    },
    {
      "cell_type": "code",
      "source": [
        "etfs['unstructured_data'] = etfs.apply(\n",
        "    lambda x: f\"The symbol is {x['Symbol']}, and the security name is {x['Security Name']} and on {x['Date']}, the opening price was {x['Open']}, the highest price was {x['High']}, the lowest price was {x['Low']}, the closing price was {x['Close']}, the adjusted closing price was {x['Adj Close']}, and the volume was {x['Volume']}. It {'is ' if x['Nasdaq Traded'] == 'Y' else 'is not'} traded on Nasdaq. The listing exchange is {x['Listing Exchange']}{', and it belongs to the market category ' + x['Market Category'] if x['Market Category'] else ''}. It is {'an' if x['ETF'] == 'Y' else 'not'} ETF, and the round lot size is {x['Round Lot Size']}. The test issue is {'issued' if x['Test Issue'] == 'Y' else 'not issued'}{', and the financial status is ' + str(x['Financial Status']) if pd.notna(x['Financial Status']) else ''}{', the CQS symbol is ' + x['CQS Symbol'] if pd.notna(x['CQS Symbol']) else ''}. The Nasdaq symbol is {x['NASDAQ Symbol']}, and the NextShares product is {x['NextShares']}.\",\n",
        "    axis=1\n",
        ")\n",
        "# use symbol, unstructured_data, and index columns only in csv file in new file name etfs_unstructured_data_short.csv\n",
        "etfs[['Symbol', 'unstructured_data']].to_csv('etfs_unstructured_data_short.csv', index=False)\n",
        "# clean memory\n",
        "del etfs"
      ],
      "metadata": {
        "id": "2WdcjnUKL8fn"
      },
      "execution_count": null,
      "outputs": []
    },
    {
      "cell_type": "code",
      "source": [
        "# get data file names\n",
        "path =r'stocks' # use your path\n",
        "allFiles = glob.glob(path + \"/*.csv\")\n",
        "frame = pd.DataFrame()\n",
        "list_ = []\n",
        "for file_ in allFiles:\n",
        "    df = pd.read_csv(file_,index_col=None, header=0)\n",
        "    df['file_name'] = file_\n",
        "    list_.append(df)\n",
        "frame = pd.concat(list_)\n",
        "frame.to_csv('stocks.csv', index=False)\n",
        "del frame"
      ],
      "metadata": {
        "id": "e7dVHaZ1MA9z"
      },
      "execution_count": null,
      "outputs": []
    },
    {
      "cell_type": "code",
      "source": [
        "# remove the path from the file name and '.csv', only to be stored in same column\n",
        "stocks = pd.read_csv('stocks.csv')\n",
        "stocks['file_name'] = stocks['file_name'].str.replace(r'stocks/', '')\n",
        "stocks['file_name'] = stocks['file_name'].str.replace(r'.csv', '')\n",
        "stocks.info()"
      ],
      "metadata": {
        "id": "mOBWfgKFMIZ8"
      },
      "execution_count": null,
      "outputs": []
    },
    {
      "cell_type": "code",
      "source": [
        "stocks = pd.merge(stocks, metaData,  how='inner', left_on=['file_name'], right_on = ['Symbol'])\n",
        "stocks.head()"
      ],
      "metadata": {
        "id": "qJ_Cgbh2MNWf"
      },
      "execution_count": null,
      "outputs": []
    },
    {
      "cell_type": "code",
      "source": [
        "# as the data is too large, we will do it in batches and create a new column unstructured_data\n",
        "# convert it in batches of 1000000 rows and store it in a new column unstructured_data\n",
        "\n",
        "# make a loop to iterate over the rows in batches of 1000000\n",
        "for i in range(0, len(stocks), 1000000):\n",
        "    # create a new column unstructured_data and store the string in it\n",
        "    stocks.loc[i:i+1000000, 'unstructured_data'] = stocks.loc[i:i+1000000].apply(\n",
        "        lambda x: f\"The symbol is {x['Symbol']}, and the security name is {x['Security Name']} and on {x['Date']}, the opening price was {x['Open']}, the highest price was {x['High']}, the lowest price was {x['Low']}, the closing price was {x['Close']}, the adjusted closing price was {x['Adj Close']}, and the volume was {x['Volume']}. It {'is ' if x['Nasdaq Traded'] == 'Y' else 'is not'} traded on Nasdaq. The listing exchange is {x['Listing Exchange']}{', and it belongs to the market category ' + x['Market Category'] if x['Market Category'] else ''}. It is {'an' if x['ETF'] == 'Y' else 'not'} ETF, and the round lot size is {x['Round Lot Size']}. The test issue is {'issued' if x['Test Issue'] == 'Y' else 'not issued'}{', and the financial status is ' + str(x['Financial Status']) if pd.notna(x['Financial Status']) else ''}{', the CQS symbol is ' + x['CQS Symbol'] if pd.notna(x['CQS Symbol']) else ''}. The Nasdaq symbol is {x['NASDAQ Symbol']}, and the NextShares product is {x['NextShares']}.\",\n",
        "        axis=1\n",
        "    )\n",
        "    # save the file in csv format with the name stocks_unstructured_data_short.csv with batch number\n",
        "    stocks.loc[i:i+1000000, ['Symbol', 'unstructured_data']].to_csv(f'stocks_unstructured_data_short_{i}.csv', index=False)\n",
        "\n",
        "del stocks\n"
      ],
      "metadata": {
        "id": "g626ygeHMXvI"
      },
      "execution_count": null,
      "outputs": []
    },
    {
      "cell_type": "markdown",
      "source": [
        "### Concate data into a single file"
      ],
      "metadata": {
        "id": "zoJSJXbnIuVi"
      }
    },
    {
      "cell_type": "code",
      "source": [
        "import csv\n",
        "\n",
        "file1_path = '/content/etfs/etfs_unstructured_data_short.csv'\n",
        "file2_path = '/content/drive/MyDrive/Copy of stock_short_merged_output.csv'\n",
        "output_path = '/content/drive/MyDrive/Updated_stock_short_merged_output.csv'\n",
        "\n",
        "# Open both input files and the output file\n",
        "with open(file1_path, 'r') as file1, open(file2_path, 'r') as file2, open(output_path, 'w', newline='') as output_file:\n",
        "    reader1 = csv.reader(file1)\n",
        "    reader2 = csv.reader(file2)\n",
        "    writer = csv.writer(output_file)\n",
        "\n",
        "    # Write the header from file2 to the output file\n",
        "    header = next(reader2)\n",
        "    writer.writerow(header)\n",
        "\n",
        "    # Copy the contents of file2 to the output file\n",
        "    for row in reader2:\n",
        "        writer.writerow(row)\n",
        "\n",
        "    # Append the contents of file1 to the output file\n",
        "    for row in reader1:\n",
        "        writer.writerow(row)\n",
        "\n",
        "print(\"Data appended successfully.\")\n"
      ],
      "metadata": {
        "id": "PNBdV9wtIsIy"
      },
      "execution_count": null,
      "outputs": []
    },
    {
      "cell_type": "code",
      "source": [
        "from google.colab import drive\n",
        "drive.mount('/content/drive')"
      ],
      "metadata": {
        "colab": {
          "base_uri": "https://localhost:8080/"
        },
        "id": "73Lw9xGa9AOO",
        "outputId": "59f91e22-0e1d-4b20-eb19-a5d6360102fd"
      },
      "execution_count": null,
      "outputs": [
        {
          "output_type": "stream",
          "name": "stdout",
          "text": [
            "Mounted at /content/drive\n"
          ]
        }
      ]
    },
    {
      "cell_type": "markdown",
      "source": [
        "## SubStep 02\n",
        "\n",
        "\n",
        "1.   Now select number of rows to make the text file (in my case 1000 rows)\n",
        "2.   Save it to stocks_short.txt file\n",
        "3.   We will use this for *Part 2*\n",
        "\n",
        "\n",
        "\n"
      ],
      "metadata": {
        "id": "96y91C45MvF2"
      }
    },
    {
      "cell_type": "code",
      "source": [
        "\n",
        "# read stock_short_merged_output.csv to 1000 rows\n",
        "stocks_short = pd.read_csv(r'/content/etfs_unstructured_data_short.csv', nrows=1000)\n",
        "# csv to text file\n",
        "stocks_short['unstructured_data'].to_csv('stocks_short.txt', index=False)"
      ],
      "metadata": {
        "id": "OxomR9yLMcsV"
      },
      "execution_count": null,
      "outputs": []
    },
    {
      "cell_type": "markdown",
      "source": [
        "#**Part 2**\n",
        "\n",
        "There are multiple strategies to achieve this,\n",
        "\n",
        "1.   Using langchain with openAI\n",
        "2.   Using langchain with HuggingFace API\n",
        "3.   Using langChain with HuggingFace LocalModels and Embeddings\n",
        "4.   Hybrid Approach - langchain + Huggingface (llm) with Api, and LocalEmbeddings - I opted this.\n",
        "\n"
      ],
      "metadata": {
        "id": "vqXY91-hNOzZ"
      }
    },
    {
      "cell_type": "markdown",
      "source": [
        "## Strategy 01 -> Using langchain with openAI"
      ],
      "metadata": {
        "id": "nwNp1bwfOhse"
      }
    },
    {
      "cell_type": "code",
      "source": [
        "!pip -q install langchain openai chromadb tiktoken"
      ],
      "metadata": {
        "colab": {
          "base_uri": "https://localhost:8080/"
        },
        "id": "NG5AuTD8WeI0",
        "outputId": "14038758-ad5f-4e72-b6f7-184ac38e4abe"
      },
      "execution_count": null,
      "outputs": [
        {
          "output_type": "stream",
          "name": "stdout",
          "text": [
            "\u001b[?25l     \u001b[90m━━━━━━━━━━━━━━━━━━━━━━━━━━━━━━━━━━━━━━━━\u001b[0m \u001b[32m0.0/1.7 MB\u001b[0m \u001b[31m?\u001b[0m eta \u001b[36m-:--:--\u001b[0m\r\u001b[2K     \u001b[91m━━━━━━━\u001b[0m\u001b[90m╺\u001b[0m\u001b[90m━━━━━━━━━━━━━━━━━━━━━━━━━━━━━━━━\u001b[0m \u001b[32m0.3/1.7 MB\u001b[0m \u001b[31m9.5 MB/s\u001b[0m eta \u001b[36m0:00:01\u001b[0m\r\u001b[2K     \u001b[91m━━━━━━━━━━━━━━━━━━━━━━━━━━━━━━━━━━━━━━━\u001b[0m\u001b[91m╸\u001b[0m \u001b[32m1.7/1.7 MB\u001b[0m \u001b[31m26.2 MB/s\u001b[0m eta \u001b[36m0:00:01\u001b[0m\r\u001b[2K     \u001b[90m━━━━━━━━━━━━━━━━━━━━━━━━━━━━━━━━━━━━━━━━\u001b[0m \u001b[32m1.7/1.7 MB\u001b[0m \u001b[31m19.2 MB/s\u001b[0m eta \u001b[36m0:00:00\u001b[0m\n",
            "\u001b[?25h"
          ]
        }
      ]
    },
    {
      "cell_type": "code",
      "source": [
        "import os\n",
        "from langchain.embeddings.openai import OpenAIEmbeddings\n",
        "from langchain.vectorstores import Chroma\n",
        "from langchain.text_splitter import CharacterTextSplitter\n",
        "from langchain.llms import OpenAI\n",
        "from langchain.chains import ConversationalRetrievalChain"
      ],
      "metadata": {
        "id": "xyOPFNAPOYXV"
      },
      "execution_count": null,
      "outputs": []
    },
    {
      "cell_type": "code",
      "source": [
        "from langchain.document_loaders import TextLoader\n",
        "loader = TextLoader(\"/content/stocks_short.txt\")\n",
        "documents = loader.load()"
      ],
      "metadata": {
        "id": "zyRh_e9POgy3"
      },
      "execution_count": null,
      "outputs": []
    },
    {
      "cell_type": "code",
      "source": [
        "os.environ['OPENAI_API_KEY'] ='OPENAI_API_KEY'\n",
        "llm = OpenAI(temperature=0.9)"
      ],
      "metadata": {
        "id": "K4j2a86xOtsx"
      },
      "execution_count": null,
      "outputs": []
    },
    {
      "cell_type": "code",
      "source": [
        "from langchain.text_splitter import RecursiveCharacterTextSplitter\n",
        "text_splitter = RecursiveCharacterTextSplitter(chunk_size=2000, chunk_overlap=0)\n",
        "documents = text_splitter.split_documents(documents)\n",
        "\n",
        "embeddings = OpenAIEmbeddings()\n",
        "vectorstore = Chroma.from_documents(documents, embeddings)"
      ],
      "metadata": {
        "id": "M-68BOTVPKMY",
        "colab": {
          "base_uri": "https://localhost:8080/"
        },
        "outputId": "cbc21344-5093-49e2-a37f-4aac5327bb7a"
      },
      "execution_count": null,
      "outputs": [
        {
          "output_type": "stream",
          "name": "stderr",
          "text": [
            "WARNING:chromadb:Using embedded DuckDB without persistence: data will be transient\n"
          ]
        }
      ]
    },
    {
      "cell_type": "code",
      "source": [
        "from langchain.chains import LLMChain\n",
        "from langchain.chains.question_answering import load_qa_chain\n",
        "from langchain.chains.conversational_retrieval.prompts import CONDENSE_QUESTION_PROMPT\n",
        "from langchain.memory import ConversationBufferMemory\n",
        "memory = ConversationBufferMemory(memory_key=\"chat_history\", return_messages=True)"
      ],
      "metadata": {
        "id": "EM9HZ4KdPTP_"
      },
      "execution_count": null,
      "outputs": []
    },
    {
      "cell_type": "code",
      "source": [
        "question_generator = LLMChain(llm=llm, prompt=CONDENSE_QUESTION_PROMPT)\n",
        "doc_chain = load_qa_chain(llm, chain_type=\"map_reduce\")\n",
        "\n",
        "chain = ConversationalRetrievalChain(\n",
        "    retriever=vectorstore.as_retriever(),\n",
        "    question_generator=question_generator,\n",
        "    combine_docs_chain=doc_chain,\n",
        ")"
      ],
      "metadata": {
        "id": "zpmgaaMDPfIX"
      },
      "execution_count": null,
      "outputs": []
    },
    {
      "cell_type": "code",
      "source": [
        "chat_history = []\n",
        "query = \"what is the latest closing price of LVUS ?\"\n",
        "result = chain({\"question\": query, \"chat_history\": chat_history})\n",
        "result['answer']"
      ],
      "metadata": {
        "id": "HyJsX3PQPqrk",
        "colab": {
          "base_uri": "https://localhost:8080/",
          "height": 36
        },
        "outputId": "94c0f7b9-ee96-41ce-cf6f-07f87fb65446"
      },
      "execution_count": null,
      "outputs": [
        {
          "output_type": "execute_result",
          "data": {
            "text/plain": [
              "' The latest closing price of LVUS is 28.875.'"
            ],
            "application/vnd.google.colaboratory.intrinsic+json": {
              "type": "string"
            }
          },
          "metadata": {},
          "execution_count": 47
        }
      ]
    },
    {
      "cell_type": "markdown",
      "source": [
        "## Strategy 02 -> Using langchain with HuggingFace API"
      ],
      "metadata": {
        "id": "cNGWx2NpPtPI"
      }
    },
    {
      "cell_type": "code",
      "source": [
        "!pip -q install langchain huggingface_hub transformers sentence_transformers accelerate bitsandbytes"
      ],
      "metadata": {
        "id": "YpiDuwC-P29D",
        "colab": {
          "base_uri": "https://localhost:8080/"
        },
        "outputId": "27010f10-8699-45d5-8219-e279b930bea6"
      },
      "execution_count": null,
      "outputs": [
        {
          "output_type": "stream",
          "name": "stdout",
          "text": [
            "\u001b[2K     \u001b[90m━━━━━━━━━━━━━━━━━━━━━━━━━━━━━━━━━━━━━━━\u001b[0m \u001b[32m219.1/219.1 kB\u001b[0m \u001b[31m5.3 MB/s\u001b[0m eta \u001b[36m0:00:00\u001b[0m\n",
            "\u001b[2K     \u001b[90m━━━━━━━━━━━━━━━━━━━━━━━━━━━━━━━━━━━━━━━\u001b[0m \u001b[32m104.3/104.3 MB\u001b[0m \u001b[31m9.2 MB/s\u001b[0m eta \u001b[36m0:00:00\u001b[0m\n",
            "\u001b[?25h\u001b[31mERROR: Operation cancelled by user\u001b[0m\u001b[31m\n",
            "\u001b[0m"
          ]
        }
      ]
    },
    {
      "cell_type": "code",
      "source": [
        "import os\n",
        "os.environ['HUGGINGFACEHUB_API_TOKEN'] = 'HUGGINGFACEHUB_API_TOKEN'"
      ],
      "metadata": {
        "id": "JV3wrWyBP-_4"
      },
      "execution_count": null,
      "outputs": []
    },
    {
      "cell_type": "code",
      "source": [
        "from langchain.vectorstores import Chroma\n",
        "from langchain.text_splitter import CharacterTextSplitter\n",
        "from langchain.chains import ConversationalRetrievalChain"
      ],
      "metadata": {
        "id": "rDUmze6CRfvX"
      },
      "execution_count": null,
      "outputs": []
    },
    {
      "cell_type": "code",
      "source": [
        "from langchain import PromptTemplate, HuggingFaceHub, LLMChain\n",
        "\n",
        "template = \"\"\"Question: {question}\n",
        "\n",
        "Answer: Let's think step by step.\"\"\"\n",
        "\n",
        "prompt = PromptTemplate(template=template, input_variables=[\"question\"])"
      ],
      "metadata": {
        "id": "VKk_zx-rQGZf"
      },
      "execution_count": null,
      "outputs": []
    },
    {
      "cell_type": "code",
      "source": [
        "llm=HuggingFaceHub(repo_id=\"google/flan-t5-large\",\n",
        "                                        model_kwargs={\"temperature\":0,\n",
        "                                                      \"max_length\":64})"
      ],
      "metadata": {
        "id": "SQwdU8hFQJ9m"
      },
      "execution_count": null,
      "outputs": []
    },
    {
      "cell_type": "code",
      "source": [
        "from langchain.embeddings import HuggingFaceHubEmbeddings\n",
        "repo_id = \"sentence-transformers/all-mpnet-base-v2\"\n",
        "embeddings = HuggingFaceHubEmbeddings(\n",
        "    repo_id=repo_id,\n",
        "    task=\"feature-extraction\",\n",
        "    # huggingfacehub_api_token=\"HUGGINGFACEHUB_API_TOKEN\",\n",
        ")"
      ],
      "metadata": {
        "id": "rL65v-ycQReG",
        "colab": {
          "base_uri": "https://localhost:8080/"
        },
        "outputId": "5799cb36-34bf-4d05-e4b5-e48e553dcb15"
      },
      "execution_count": null,
      "outputs": [
        {
          "output_type": "stream",
          "name": "stderr",
          "text": [
            "You're using a different task than the one specified in the repository. Be sure to know what you're doing :)\n",
            "WARNING:huggingface_hub.inference_api:You're using a different task than the one specified in the repository. Be sure to know what you're doing :)\n"
          ]
        }
      ]
    },
    {
      "cell_type": "code",
      "source": [
        "from langchain.document_loaders import TextLoader\n",
        "loader = TextLoader(\"/content/my_data.txt\")\n",
        "documents = loader.load()"
      ],
      "metadata": {
        "id": "pnICIyZCQpkB"
      },
      "execution_count": null,
      "outputs": []
    },
    {
      "cell_type": "code",
      "source": [
        "from langchain.text_splitter import RecursiveCharacterTextSplitter\n",
        "text_splitter = RecursiveCharacterTextSplitter(chunk_size=2000, chunk_overlap=0)\n",
        "documents = text_splitter.split_documents(documents)\n",
        "\n",
        "vectorstore = Chroma.from_documents(documents, embeddings)"
      ],
      "metadata": {
        "id": "__7bZmzeSbat",
        "colab": {
          "base_uri": "https://localhost:8080/"
        },
        "outputId": "bf899cb2-5aaf-4ec8-d19d-eee79dcd9ad3"
      },
      "execution_count": null,
      "outputs": [
        {
          "output_type": "stream",
          "name": "stderr",
          "text": [
            "WARNING:chromadb:Using embedded DuckDB without persistence: data will be transient\n"
          ]
        }
      ]
    },
    {
      "cell_type": "code",
      "source": [
        "from langchain.chains import LLMChain\n",
        "from langchain.chains.question_answering import load_qa_chain\n",
        "from langchain.chains.conversational_retrieval.prompts import CONDENSE_QUESTION_PROMPT\n",
        "from langchain.memory import ConversationBufferMemory\n",
        "memory = ConversationBufferMemory(memory_key=\"chat_history\", return_messages=True)"
      ],
      "metadata": {
        "id": "O4RbGRfhSk1a"
      },
      "execution_count": null,
      "outputs": []
    },
    {
      "cell_type": "code",
      "source": [
        "question_generator = LLMChain(llm=llm, prompt=CONDENSE_QUESTION_PROMPT)\n",
        "doc_chain = load_qa_chain(llm, chain_type=\"map_reduce\")\n",
        "\n",
        "chain = ConversationalRetrievalChain(\n",
        "    retriever=vectorstore.as_retriever(),\n",
        "    question_generator=question_generator,\n",
        "    combine_docs_chain=doc_chain,\n",
        ")"
      ],
      "metadata": {
        "id": "rFni5W4SSqre"
      },
      "execution_count": null,
      "outputs": []
    },
    {
      "cell_type": "code",
      "source": [
        "chat_history = []\n",
        "query = \"what is security name for symbol LVUS and what was closing priceon 2017-05-11?\"\n",
        "result = chain({\"question\": query, \"chat_history\": chat_history})\n",
        "result['answer']"
      ],
      "metadata": {
        "id": "OkDlTozkS7Oe",
        "colab": {
          "base_uri": "https://localhost:8080/",
          "height": 181,
          "referenced_widgets": [
            "41fe16d3c93046e58b2dc32e88b5ae3f",
            "56a9891bef6c42c2b437d11c50525eb6",
            "ad960cc873d848ad86a2f2465302612e",
            "27014eab77fd4c17a1c6d2ac272d101f",
            "1ea4fca43cca4c6ab42642404fb42e3c",
            "813fbc5b23fc4e7ab7551bec6cbef89d",
            "381fbddcff2848a181a4c6142738326e",
            "83ea71942d664dd5a35a4785c27eb457",
            "28d52c9719e94add8dd21213f688dd33",
            "285c20fbf4f14ac8871f2477c530909a",
            "003e655052a1479ebd6ee2e13ff2dbe8",
            "55403440bda34fd4b0129be6e3b811d8",
            "a1881492f2c9416daaee9902e6d3ffe6",
            "5cd55d156f80448592234d8dd97edf50",
            "eb3cdfcff24b467ab855f61f367b5aaf",
            "2ffa6039078d4f568b473c33eff6c51d",
            "390f1768f59a4e3894926a893343c2b0",
            "20e8fb1dd4fd4808b5f36be13d06bff9",
            "e8f2641ca9cf4282b207b39435e5a69a",
            "ed3194cdc95f4e259f11ad6b03763cb1",
            "471aba4d9db841dbaa79472072c53f7a",
            "7a974254d69b423fba565d89d7fa1dc4",
            "5d5f12079d9c490da411fa1c5da8c881",
            "8cda0d800aef436b83e41f76152dbeb0",
            "cd683d5f821747488b17f2da06f6753e",
            "32b7e9cf747644809194f17ba6268d53",
            "4781b79d0a9749c6b5f70d080b42a0f2",
            "f10e9a3312be467196b5c13dc3fb1c92",
            "0f6c5d8d5728412e96cb0548caf8bac6",
            "c728cc51d28341ba8b68a9a1f2bec9e4",
            "7488c01ebf94472c8e6d4c9e6650fbb4",
            "ffcedb6f13ff4b3ca9bc8e74863de03e",
            "802c06c8341d4a059ae497d8f6107fab",
            "bd0b398946914dc98bcfe24dc5d3f482",
            "f3e7c7a153bb488e9d3b155458531651",
            "1c9033ee23b542fba025c35f29591807",
            "80ee0dfceba14ba5873438de1695adcd",
            "824a1f5868d042d7b06e719df23a998a",
            "f435bbddeb0b4b7fbe221763edba3035",
            "e6892808d3c04cae8b9d5035241f97c9",
            "06fa22929e65419f9fd2c6ba18202844",
            "18140300fb594acca9cdb6a569d82e25",
            "c4562fe759914b8cb048c8ef3eb0668a",
            "1abc6d28810d45f984a333d0f9826c72"
          ]
        },
        "outputId": "c64f5097-e407-4484-bf1d-a935cb849c13"
      },
      "execution_count": null,
      "outputs": [
        {
          "output_type": "display_data",
          "data": {
            "text/plain": [
              "Downloading (…)olve/main/vocab.json:   0%|          | 0.00/1.04M [00:00<?, ?B/s]"
            ],
            "application/vnd.jupyter.widget-view+json": {
              "version_major": 2,
              "version_minor": 0,
              "model_id": "41fe16d3c93046e58b2dc32e88b5ae3f"
            }
          },
          "metadata": {}
        },
        {
          "output_type": "display_data",
          "data": {
            "text/plain": [
              "Downloading (…)olve/main/merges.txt:   0%|          | 0.00/456k [00:00<?, ?B/s]"
            ],
            "application/vnd.jupyter.widget-view+json": {
              "version_major": 2,
              "version_minor": 0,
              "model_id": "55403440bda34fd4b0129be6e3b811d8"
            }
          },
          "metadata": {}
        },
        {
          "output_type": "display_data",
          "data": {
            "text/plain": [
              "Downloading (…)/main/tokenizer.json:   0%|          | 0.00/1.36M [00:00<?, ?B/s]"
            ],
            "application/vnd.jupyter.widget-view+json": {
              "version_major": 2,
              "version_minor": 0,
              "model_id": "5d5f12079d9c490da411fa1c5da8c881"
            }
          },
          "metadata": {}
        },
        {
          "output_type": "display_data",
          "data": {
            "text/plain": [
              "Downloading (…)lve/main/config.json:   0%|          | 0.00/665 [00:00<?, ?B/s]"
            ],
            "application/vnd.jupyter.widget-view+json": {
              "version_major": 2,
              "version_minor": 0,
              "model_id": "bd0b398946914dc98bcfe24dc5d3f482"
            }
          },
          "metadata": {}
        },
        {
          "output_type": "stream",
          "name": "stderr",
          "text": [
            "Token indices sequence length is longer than the specified maximum sequence length for this model (1705 > 1024). Running this sequence through the model will result in indexing errors\n"
          ]
        },
        {
          "output_type": "execute_result",
          "data": {
            "text/plain": [
              "'Hartford Multifactor Low Volatility US Equity ETF'"
            ],
            "application/vnd.google.colaboratory.intrinsic+json": {
              "type": "string"
            }
          },
          "metadata": {},
          "execution_count": 67
        }
      ]
    },
    {
      "cell_type": "markdown",
      "source": [
        "## Strategy 03 -> Using langChain with HuggingFace LocalModels and Embeddings"
      ],
      "metadata": {
        "id": "RzOJwL-MTZkO"
      }
    },
    {
      "cell_type": "markdown",
      "source": [
        "#### Local LLM -> Huggingface"
      ],
      "metadata": {
        "id": "n9TNX24WMaiU"
      }
    },
    {
      "cell_type": "code",
      "source": [
        "from langchain.llms import HuggingFacePipeline\n",
        "import torch\n",
        "from transformers import AutoTokenizer, AutoModelForCausalLM, pipeline, AutoModelForSeq2SeqLM\n",
        "\n",
        "model_id = 'google/flan-t5-small'\n",
        "tokenizer = AutoTokenizer.from_pretrained(model_id)\n",
        "model = AutoModelForSeq2SeqLM.from_pretrained(model_id, load_in_8bit=True, device_map='auto')\n",
        "\n",
        "pipeline = pipeline(\n",
        "    # \"text2text-generation\",\n",
        "    model=model,\n",
        "    # tokenizer=tokenizer,\n",
        "    max_length=128\n",
        ")\n",
        "\n",
        "local_llm = HuggingFacePipeline(pipeline=pipeline)"
      ],
      "metadata": {
        "id": "dkC1PgG2TWkt"
      },
      "execution_count": null,
      "outputs": []
    },
    {
      "cell_type": "code",
      "source": [
        "llm_chain = LLMChain(prompt=prompt,\n",
        "                     llm=local_llm\n",
        "                     )\n",
        "\n",
        "question = \"What is the capital of England?\"\n",
        "\n",
        "print(llm_chain.run(question))"
      ],
      "metadata": {
        "id": "LJwyFpjkMtOz"
      },
      "execution_count": null,
      "outputs": []
    },
    {
      "cell_type": "code",
      "source": [
        "import pickle\n",
        "import faiss\n",
        "from langchain.vectorstores import FAISS"
      ],
      "metadata": {
        "id": "fqlsGOUQMwWU"
      },
      "execution_count": null,
      "outputs": []
    },
    {
      "cell_type": "code",
      "source": [
        "from langchain.vectorstores import Chroma\n",
        "from langchain.text_splitter import RecursiveCharacterTextSplitter\n",
        "# from langchain.llms import OpenAI\n",
        "from langchain.chains import RetrievalQA\n",
        "# from langchain.document_loaders import PyPDFLoader\n",
        "from langchain.document_loaders import DirectoryLoader, TextLoader"
      ],
      "metadata": {
        "id": "mQ13ENm-M-90"
      },
      "execution_count": null,
      "outputs": []
    },
    {
      "cell_type": "code",
      "source": [
        "# InstructorEmbedding\n",
        "from InstructorEmbedding import INSTRUCTOR\n",
        "from langchain.embeddings import HuggingFaceInstructEmbeddings"
      ],
      "metadata": {
        "id": "LrMpOndRNAzD"
      },
      "execution_count": null,
      "outputs": []
    },
    {
      "cell_type": "code",
      "source": [
        "loader = TextLoader('/content/output_10000.txt')\n",
        "# loader = DirectoryLoader(f'{root_dir}/Documents/', glob=\"./*.pdf\", loader_cls=PyPDFLoader)\n",
        "documents = loader.load()"
      ],
      "metadata": {
        "id": "9swIEtTKNC5K"
      },
      "execution_count": null,
      "outputs": []
    },
    {
      "cell_type": "code",
      "source": [
        "text_splitter = RecursiveCharacterTextSplitter(\n",
        "                                               chunk_size=1000,\n",
        "                                               chunk_overlap=200)\n",
        "\n",
        "texts = text_splitter.split_documents(documents)"
      ],
      "metadata": {
        "id": "e55FjlSANEQf"
      },
      "execution_count": null,
      "outputs": []
    },
    {
      "cell_type": "code",
      "source": [
        "def store_embeddings(docs, embeddings, sotre_name, path):\n",
        "\n",
        "    vectorStore = FAISS.from_documents(docs, embeddings)\n",
        "\n",
        "    with open(f\"{path}/faiss_{sotre_name}.pkl\", \"wb\") as f:\n",
        "        pickle.dump(vectorStore, f)"
      ],
      "metadata": {
        "id": "TDm-IkP9NE8l"
      },
      "execution_count": null,
      "outputs": []
    },
    {
      "cell_type": "code",
      "source": [
        "def load_embeddings(sotre_name, path):\n",
        "    with open(f\"{path}/faiss_{sotre_name}.pkl\", \"rb\") as f:\n",
        "        VectorStore = pickle.load(f)\n",
        "    return VectorStore"
      ],
      "metadata": {
        "id": "r9WsK6OKNG2r"
      },
      "execution_count": null,
      "outputs": []
    },
    {
      "cell_type": "code",
      "source": [
        "from langchain.embeddings import HuggingFaceInstructEmbeddings\n",
        "\n",
        "instructor_embeddings = HuggingFaceInstructEmbeddings(model_name=\"hkunlp/instructor-xl\",\n",
        "                                                      model_kwargs={\"device\": \"cuda\"})"
      ],
      "metadata": {
        "id": "xHml5j5jNIw1"
      },
      "execution_count": null,
      "outputs": []
    },
    {
      "cell_type": "code",
      "source": [
        "root_dir = '/content'\n",
        "Embedding_store_path = f\"{root_dir}/Embedding_store\""
      ],
      "metadata": {
        "id": "VBbAKxz-NK46"
      },
      "execution_count": null,
      "outputs": []
    },
    {
      "cell_type": "code",
      "source": [
        "store_embeddings(texts,\n",
        "                 instructor_embeddings,\n",
        "                 sotre_name='instructEmbeddings',\n",
        "                 path=Embedding_store_path)"
      ],
      "metadata": {
        "id": "zX0KZ1u0NNNL"
      },
      "execution_count": null,
      "outputs": []
    },
    {
      "cell_type": "code",
      "source": [
        "# Embedding_store_path = \"/content/drive/MyDrive/MSDS/NLP Midterm\""
      ],
      "metadata": {
        "id": "kPy49ei1NP2Z"
      },
      "execution_count": null,
      "outputs": []
    },
    {
      "cell_type": "code",
      "source": [
        "db_instructEmbedd = load_embeddings(sotre_name='instructEmbeddings',\n",
        "                                    path=Embedding_store_path)"
      ],
      "metadata": {
        "id": "5F83HBNrNRfZ"
      },
      "execution_count": null,
      "outputs": []
    },
    {
      "cell_type": "code",
      "source": [
        "# db_instructEmbedd = FAISS.from_documents(texts, instructor_embeddings)"
      ],
      "metadata": {
        "id": "wzN2aZf9NULN"
      },
      "execution_count": null,
      "outputs": []
    },
    {
      "cell_type": "code",
      "source": [
        "retriever = db_instructEmbedd.as_retriever()"
      ],
      "metadata": {
        "id": "ZkCLkHl1NV10"
      },
      "execution_count": null,
      "outputs": []
    },
    {
      "cell_type": "code",
      "source": [
        "retriever.search_type"
      ],
      "metadata": {
        "id": "D2aAIB9fNXLZ"
      },
      "execution_count": null,
      "outputs": []
    },
    {
      "cell_type": "code",
      "source": [
        "retriever.search_kwargs"
      ],
      "metadata": {
        "id": "INeDylU3NZDR"
      },
      "execution_count": null,
      "outputs": []
    },
    {
      "cell_type": "code",
      "source": [
        "docs = retriever.get_relevant_documents(\"What is opening price of CPSI on 2015-01-09\")"
      ],
      "metadata": {
        "id": "H3J69rOnNavK"
      },
      "execution_count": null,
      "outputs": []
    },
    {
      "cell_type": "code",
      "source": [
        "docs"
      ],
      "metadata": {
        "id": "TW8SBGXCNeZL"
      },
      "execution_count": null,
      "outputs": []
    },
    {
      "cell_type": "code",
      "source": [
        "# create the chain to answer questions\n",
        "qa_chain_instrucEmbed = RetrievalQA.from_chain_type(local_llm,\n",
        "                                  chain_type=\"map_reduce\",\n",
        "                                  retriever=retriever,\n",
        "                                  return_source_documents=False,\n",
        "                                  verbose=True)"
      ],
      "metadata": {
        "id": "XQNa-2wrNgyq"
      },
      "execution_count": null,
      "outputs": []
    },
    {
      "cell_type": "code",
      "source": [
        "## Cite sources\n",
        "\n",
        "import textwrap\n",
        "\n",
        "def wrap_text_preserve_newlines(text, width=110):\n",
        "    # Split the input text into lines based on newline characters\n",
        "    lines = text.split('\\n')\n",
        "\n",
        "    # Wrap each line individually\n",
        "    wrapped_lines = [textwrap.fill(line, width=width) for line in lines]\n",
        "\n",
        "    # Join the wrapped lines back together using newline characters\n",
        "    wrapped_text = '\\n'.join(wrapped_lines)\n",
        "\n",
        "    return wrapped_text\n",
        "\n",
        "def process_llm_response(llm_response):\n",
        "    print(wrap_text_preserve_newlines(llm_response['result']))\n",
        "    print('\\nSources:')\n",
        "    for source in llm_response[\"source_documents\"]:\n",
        "        print(source.metadata['source'])"
      ],
      "metadata": {
        "id": "K3Ycc3NNNoEf"
      },
      "execution_count": null,
      "outputs": []
    },
    {
      "cell_type": "code",
      "source": [
        "query = 'What is opening price of CPSI on 2015-01-09?'\n",
        "\n",
        "print('-------------------Instructor Embeddings------------------\\n')\n",
        "llm_response = qa_chain_instrucEmbed(query)\n",
        "process_llm_response(llm_response)"
      ],
      "metadata": {
        "id": "v5I8fk2mNsO4"
      },
      "execution_count": null,
      "outputs": []
    },
    {
      "cell_type": "markdown",
      "source": [
        "##Strategy ->04 Hybrid Approach - langchain + Huggingface (llm) with Api, and LocalEmbeddings - I opted this."
      ],
      "metadata": {
        "id": "lVssatRFNwl9"
      }
    },
    {
      "cell_type": "code",
      "source": [
        "!pip -q install langchain huggingface_hub transformers sentence_transformers accelerate bitsandbytes\n"
      ],
      "metadata": {
        "id": "tZN2CxhSOIH0"
      },
      "execution_count": null,
      "outputs": []
    },
    {
      "cell_type": "code",
      "source": [
        "import os\n",
        "os.environ['HUGGINGFACEHUB_API_TOKEN'] = 'HUGGINGFACEHUB_API_TOKEN'"
      ],
      "metadata": {
        "id": "50VYgqnROapZ"
      },
      "execution_count": null,
      "outputs": []
    },
    {
      "cell_type": "code",
      "source": [
        "from langchain import PromptTemplate, HuggingFaceHub, LLMChain\n",
        "\n",
        "template = \"\"\"Question: {question}\n",
        "\n",
        "Answer: Let's think step by step.\"\"\"\n",
        "\n",
        "prompt = PromptTemplate(template=template, input_variables=[\"question\"])"
      ],
      "metadata": {
        "id": "hH9nsyO7Og9C"
      },
      "execution_count": null,
      "outputs": []
    },
    {
      "cell_type": "code",
      "source": [
        "llm=HuggingFaceHub(repo_id=\"google/flan-t5-large\",model_kwargs={\"temperature\":0, \"max_length\":64})"
      ],
      "metadata": {
        "id": "XiCwwHUwOjr9"
      },
      "execution_count": null,
      "outputs": []
    },
    {
      "cell_type": "code",
      "source": [
        "! pip install bitsandbytes > /dev/null"
      ],
      "metadata": {
        "id": "VK5qFTinOpVt"
      },
      "execution_count": null,
      "outputs": []
    },
    {
      "cell_type": "code",
      "source": [
        "!pip -q install langchain openai tiktoken chromadb pypdf sentence_transformers InstructorEmbedding faiss-cpu"
      ],
      "metadata": {
        "id": "QH6aIRkROqEY"
      },
      "execution_count": null,
      "outputs": []
    },
    {
      "cell_type": "code",
      "source": [
        "import pickle\n",
        "import faiss\n",
        "from langchain.vectorstores import FAISS\n",
        "from langchain.vectorstores import Chroma\n",
        "from langchain.text_splitter import RecursiveCharacterTextSplitter\n",
        "from langchain.chains import RetrievalQA\n",
        "from langchain.document_loaders import DirectoryLoader, TextLoader\n",
        "# InstructorEmbedding\n",
        "from InstructorEmbedding import INSTRUCTOR\n",
        "from langchain.embeddings import HuggingFaceInstructEmbeddings"
      ],
      "metadata": {
        "id": "hhnud0JPOvDV"
      },
      "execution_count": null,
      "outputs": []
    },
    {
      "cell_type": "code",
      "source": [
        "loader = TextLoader('/content/output_10000.txt')\n",
        "# loader = DirectoryLoader(f'{root_dir}/Documents/', glob=\"./*.pdf\", loader_cls=PyPDFLoader)\n",
        "documents = loader.load()"
      ],
      "metadata": {
        "id": "ZwIiyJQmO2Nv"
      },
      "execution_count": null,
      "outputs": []
    },
    {
      "cell_type": "code",
      "source": [
        "text_splitter = RecursiveCharacterTextSplitter(\n",
        "                                               chunk_size=1000,\n",
        "                                               chunk_overlap=200)\n",
        "\n",
        "texts = text_splitter.split_documents(documents)"
      ],
      "metadata": {
        "id": "Zg0fcjAEO6XB"
      },
      "execution_count": null,
      "outputs": []
    },
    {
      "cell_type": "code",
      "source": [
        "def store_embeddings(docs, embeddings, sotre_name, path):\n",
        "\n",
        "    vectorStore = FAISS.from_documents(docs, embeddings)\n",
        "\n",
        "    with open(f\"{path}/faiss_{sotre_name}.pkl\", \"wb\") as f:\n",
        "        pickle.dump(vectorStore, f)"
      ],
      "metadata": {
        "id": "1HFwQyUxO9Ea"
      },
      "execution_count": null,
      "outputs": []
    },
    {
      "cell_type": "code",
      "source": [
        "def load_embeddings(sotre_name, path):\n",
        "    with open(f\"{path}/faiss_{sotre_name}.pkl\", \"rb\") as f:\n",
        "        VectorStore = pickle.load(f)\n",
        "    return VectorStore"
      ],
      "metadata": {
        "id": "E49TGVL_O_Fz"
      },
      "execution_count": null,
      "outputs": []
    },
    {
      "cell_type": "code",
      "source": [
        "from langchain.embeddings import HuggingFaceInstructEmbeddings\n",
        "\n",
        "instructor_embeddings = HuggingFaceInstructEmbeddings(model_name=\"hkunlp/instructor-xl\",\n",
        "                                                      model_kwargs={\"device\": \"cuda\"})"
      ],
      "metadata": {
        "id": "GaZeKG68PCGM"
      },
      "execution_count": null,
      "outputs": []
    },
    {
      "cell_type": "code",
      "source": [
        "root_dir = '/content'\n",
        "Embedding_store_path = f\"{root_dir}/Embedding_store\""
      ],
      "metadata": {
        "id": "eUkgBLqWPD4e"
      },
      "execution_count": null,
      "outputs": []
    },
    {
      "cell_type": "code",
      "source": [
        "store_embeddings(texts,\n",
        "                 instructor_embeddings,\n",
        "                 sotre_name='instructEmbeddings',\n",
        "                 path=Embedding_store_path)"
      ],
      "metadata": {
        "id": "yu00OjCGPEjv"
      },
      "execution_count": null,
      "outputs": []
    },
    {
      "cell_type": "code",
      "source": [
        "Embedding_store_path = \"/content/drive/MyDrive/MSDS/NLP Midterm\""
      ],
      "metadata": {
        "id": "d9GoJSLuPHGu"
      },
      "execution_count": null,
      "outputs": []
    },
    {
      "cell_type": "code",
      "source": [
        "db_instructEmbedd = load_embeddings(sotre_name='instructEmbeddings',\n",
        "                                    path=Embedding_store_path)"
      ],
      "metadata": {
        "id": "f-QoFvUOPI-p"
      },
      "execution_count": null,
      "outputs": []
    },
    {
      "cell_type": "code",
      "source": [
        "db_instructEmbedd = FAISS.from_documents(texts, instructor_embeddings)\n",
        "docs = retriever.get_relevant_documents(\"What is opening price of CPSI on 2015-01-09\")\n",
        "docs"
      ],
      "metadata": {
        "id": "01Or58OHPKra"
      },
      "execution_count": null,
      "outputs": []
    },
    {
      "cell_type": "code",
      "source": [
        "qa_chain_instrucEmbed = RetrievalQA.from_chain_type(llm,\n",
        "                                  chain_type=\"map_reduce\",\n",
        "                                  retriever=retriever,\n",
        "                                  return_source_documents=False,\n",
        "                                  verbose=True)"
      ],
      "metadata": {
        "id": "izXfX2hlPQHk"
      },
      "execution_count": null,
      "outputs": []
    },
    {
      "cell_type": "code",
      "source": [
        "## Cite sources\n",
        "\n",
        "import textwrap\n",
        "\n",
        "def wrap_text_preserve_newlines(text, width=110):\n",
        "    # Split the input text into lines based on newline characters\n",
        "    lines = text.split('\\n')\n",
        "\n",
        "    # Wrap each line individually\n",
        "    wrapped_lines = [textwrap.fill(line, width=width) for line in lines]\n",
        "\n",
        "    # Join the wrapped lines back together using newline characters\n",
        "    wrapped_text = '\\n'.join(wrapped_lines)\n",
        "\n",
        "    return wrapped_text\n",
        "\n",
        "def process_llm_response(llm_response):\n",
        "    print(wrap_text_preserve_newlines(llm_response['result']))\n",
        "    print('\\nSources:')\n",
        "    for source in llm_response[\"source_documents\"]:\n",
        "        print(source.metadata['source'])"
      ],
      "metadata": {
        "id": "V6HwzmcrPfFZ"
      },
      "execution_count": null,
      "outputs": []
    },
    {
      "cell_type": "code",
      "source": [
        "query = 'What is opening price of CPSI on 2015-01-09?'\n",
        "\n",
        "print('-------------------Instructor Embeddings------------------\\n')\n",
        "llm_response = qa_chain_instrucEmbed(query)\n",
        "process_llm_response(llm_response)"
      ],
      "metadata": {
        "id": "_M1DPugbPiAJ"
      },
      "execution_count": null,
      "outputs": []
    }
  ]
}